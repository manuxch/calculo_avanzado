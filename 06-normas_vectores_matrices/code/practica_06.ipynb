{
 "cells": [
  {
   "cell_type": "markdown",
   "id": "ad4bb234-73d0-4410-a439-38d4001fc69d",
   "metadata": {},
   "source": [
    "# Práctica 06\n",
    "\n",
    "[![Abrir en Colab](https://colab.research.google.com/assets/colab-badge.svg)](https://colab.research.google.com/github/manuxch/calculo_avanzado/blob/main/06-normas_vectores_matrices/code/practica_06.ipynb)"
   ]
  },
  {
   "cell_type": "markdown",
   "id": "7c3a8766-b5a1-4024-9d84-f3492fe40e8f",
   "metadata": {},
   "source": [
    "## Ejercicio 1\n",
    "\n",
    "La expresión general para las normas $p$ para vectores en $\\mathbb{R}^n$ es:\n",
    "$$\\lVert \\vec{x} \\rVert = \\left( \\sum_{i=1}^n |x_i|^p \\right)^{1/p} $$\n",
    "En particular, las normas $l_1$, $l_2$ y $l_{\\infty}$ son:\n",
    "- $\\lVert \\vec{x} \\rVert_1 = \\sum_{i = 1}^n |x_i| $\n",
    "- $\\lVert \\vec{x} \\rVert_2 = \\left( \\sum_{i = 1}^n |x_i|^2 \\right)^{1/2} $\n",
    "- $\\lVert \\vec{x} \\rVert_{\\infty} = \\max_{1 \\leq i \\leq n} |x_i| $\n",
    "\n",
    "Para $\\vec{x} = [3, -4, 0, 3/2]$ resultan:\n",
    "- $l_1$:\n",
    "  $$ \\lVert \\vec{x} \\rVert_1 = |3| + |-4| + |0| + |3/2| = \\frac{17}{2} $$\n",
    "- $l_2$:\n",
    "  $$ \\lVert \\vec{x} \\rVert_2 = \\sqrt{|3|^2 + |-4|^2 + |0|^2 + |3/2|^2} = \\frac{\\sqrt{109}}{2} $$\n",
    "- $l_{\\infty}$:\n",
    "  $$ \\lVert \\vec{x} \\rVert_{\\infty} = \\max\\{|3|, |-4|, |0|, |3/2|\\} = 4 $$\n",
    "\n",
    "Para $\\vec{x} = [2, 1, -3, 4]$ resultan:\n",
    "- $l_1$:\n",
    "  $$ \\lVert \\vec{x} \\rVert_1 = |2| + |1| + |-3| + |4| = 10 $$\n",
    "- $l_2$:\n",
    "  $$ \\lVert \\vec{x} \\rVert_2 = \\sqrt{|2|^2 + |1|^2 + |-3|^2 + |4|^2} = \\sqrt{30} $$\n",
    "- $l_{\\infty}$:\n",
    "  $$ \\lVert \\vec{x} \\rVert_{\\infty} = \\max\\{|2|, |1|, |-3|, |4|\\} = 4 $$\n",
    "\n",
    "  Para $\\vec{x} = [\\sin k, \\cos k, 2^k]$ resultan:\n",
    "- $l_1$:\n",
    "  $$ \\lVert \\vec{x} \\rVert_1 = |\\sin k| + |\\cos k| + 2^k $$\n",
    "- $l_2$:\n",
    "  $$ \\lVert \\vec{x} \\rVert_2 = \\sqrt{|\\sin k|^2 + |\\cos k|^2 + |2^k|^2 } = \\sqrt{1 + 4^k} $$\n",
    "- $l_{\\infty}$:\n",
    "  $$ \\lVert \\vec{x} \\rVert_{\\infty} = \\max\\{|\\sin k|, |\\cos k|, |2^k|\\} = 2^k $$"
   ]
  },
  {
   "cell_type": "markdown",
   "id": "a9832a42-aadb-497f-9fd0-ed91b71f3ce4",
   "metadata": {},
   "source": [
    "## Ejercicio 2\n",
    "\n",
    "Para resolver este problema, y dado que implica realizar muchos cálculos en forma repetitiva, vamos a implementar funciones en Python que reciban como argumento la matriz cuya norma se quiere calcular."
   ]
  },
  {
   "cell_type": "code",
   "execution_count": 1,
   "id": "4d8f03e2-7438-4bac-ad1e-89a6e01b5e64",
   "metadata": {},
   "outputs": [],
   "source": [
    "import numpy as np\n",
    "\n",
    "def frobenius(A):\n",
    "    suma_elementos_cuadrados = np.sum(A**2)\n",
    "    norma = np.sqrt(suma_elementos_cuadrados)\n",
    "    return norma\n",
    "\n",
    "def maxima(A):\n",
    "    elemento_maximo = np.max(np.abs(A))\n",
    "    return elemento_maximo\n",
    "\n",
    "def norma_p1(A):\n",
    "    suma_elementos = np.sum(np.abs(A))\n",
    "    return suma_elementos"
   ]
  },
  {
   "cell_type": "markdown",
   "id": "100ee3c2-6b01-4868-b149-df628550a553",
   "metadata": {},
   "source": [
    "Ahora definimos las matrices de cada caso como arrays de numpy, y luego hacemos una lista con estas matrices:"
   ]
  },
  {
   "cell_type": "code",
   "execution_count": 2,
   "id": "3127d39d-594a-40cd-b4e6-5734796eb565",
   "metadata": {},
   "outputs": [],
   "source": [
    "A_a = np.array([[10, 15], [0, 1]])\n",
    "A_b = np.array([[10, 0], [15, 1]])\n",
    "A_c = np.array([[2, -1, 0], [-1, 2, -1], [0, -1, 2]])\n",
    "A_d = np.array([[4, -1, 7], [-1, 4, 0], [-7, 0, 4]])\n",
    "\n",
    "matrices = [A_a, A_b, A_c, A_d]"
   ]
  },
  {
   "cell_type": "markdown",
   "id": "ebad4cd6-86da-4b29-96cc-344e3741d34d",
   "metadata": {},
   "source": [
    "Finalmente, recorremos esta lista de matrices con un ``for`` de modo de pasar cada matriz como argumento de las funciones definidias previamente:"
   ]
  },
  {
   "cell_type": "code",
   "execution_count": 3,
   "id": "d8d0b360-bb10-45b2-9caa-efc2c8bd87b6",
   "metadata": {},
   "outputs": [
    {
     "name": "stdout",
     "output_type": "stream",
     "text": [
      "Matriz:\n",
      "[[10 15]\n",
      " [ 0  1]]\n",
      "Norma frobenius: 18.05547008526779\n",
      "Norma máxima: 15\n",
      "Norma p1: 26\n",
      "--------------------\n",
      "Matriz:\n",
      "[[10  0]\n",
      " [15  1]]\n",
      "Norma frobenius: 18.05547008526779\n",
      "Norma máxima: 15\n",
      "Norma p1: 26\n",
      "--------------------\n",
      "Matriz:\n",
      "[[ 2 -1  0]\n",
      " [-1  2 -1]\n",
      " [ 0 -1  2]]\n",
      "Norma frobenius: 4.0\n",
      "Norma máxima: 2\n",
      "Norma p1: 10\n",
      "--------------------\n",
      "Matriz:\n",
      "[[ 4 -1  7]\n",
      " [-1  4  0]\n",
      " [-7  0  4]]\n",
      "Norma frobenius: 12.165525060596439\n",
      "Norma máxima: 7\n",
      "Norma p1: 28\n",
      "--------------------\n"
     ]
    }
   ],
   "source": [
    "for matriz in matrices:\n",
    "    print('Matriz:')\n",
    "    print(matriz)\n",
    "    print(f'Norma frobenius: {frobenius(matriz)}')\n",
    "    print(f'Norma máxima: {maxima(matriz)}')\n",
    "    print(f'Norma p1: {norma_p1(matriz)}')\n",
    "    print(20 * '-')"
   ]
  },
  {
   "cell_type": "markdown",
   "id": "99051452-0c7a-4cfe-a358-035b82dd05bf",
   "metadata": {},
   "source": [
    "## Ejercicio 3\n",
    "\n",
    "Podemos mostrar que la norma $\\lVert \\cdot \\rVert_{\\text{máx}}$ no satisface la propiedad sub-multiplicativa utilizando para ello la matriz:\n",
    "$$A = \\begin{bmatrix} 1 & 1 \\\\ 1 & 1 \\end{bmatrix} $$\n",
    "\n",
    "Para esta matriz, la norma máxima es $\\lVert A \\rVert_{\\text{máx}} = 1$. Por otra parte:\n",
    "$$A \\cdot A = \\begin{bmatrix} 2 & 2 \\\\ 2 & 2 \\end{bmatrix} $$\n",
    "cuya norma máxima es $\\lVert A\\cdot A \\rVert_{\\text{máx}} = 2 $. De este modo, no se cumple la propiedad sub-multiplicativa:\n",
    "$$\\lVert A \\cdot A \\rVert_{\\text{máx}} \\leq \\lVert A \\rVert_{\\text{máx}} \\cdot \\lVert A \\rVert_{\\text{máx}} $$ \n",
    "ya que \n",
    "$$2 > 1 \\cdot 1 $$"
   ]
  },
  {
   "cell_type": "markdown",
   "id": "d036cd7b-7766-4f37-b878-a5add5c28587",
   "metadata": {},
   "source": [
    "## Ejercicio 4\n",
    "\n",
    "Al igual que en el ejercicio 2, vamos a escribir funciones que reciban como argumento una matriz (como array de numpy) y devuelva las correspondientes normas inducidas:"
   ]
  },
  {
   "cell_type": "code",
   "execution_count": 4,
   "id": "b6ba45ac-088b-42dc-b6aa-bd2a6afe566a",
   "metadata": {},
   "outputs": [],
   "source": [
    "def l1_inducida(A):\n",
    "    suma_columna = np.sum(A, axis=0)\n",
    "    norma = np.max(suma_columna)\n",
    "    return norma\n",
    "\n",
    "def linf_inducida(A):\n",
    "    suma_fila = np.sum(A, axis=1)\n",
    "    norma = np.max(suma_fila)\n",
    "    return norma"
   ]
  },
  {
   "cell_type": "code",
   "execution_count": 5,
   "id": "3598fd95-5fc9-461a-99f0-f46caaa301b8",
   "metadata": {},
   "outputs": [
    {
     "name": "stdout",
     "output_type": "stream",
     "text": [
      "Matriz:\n",
      "[[10 15]\n",
      " [ 0  1]]\n",
      "Norma inducida l1: 16\n",
      "Norma inducida máxima: 25\n",
      "--------------------\n",
      "Matriz:\n",
      "[[10  0]\n",
      " [15  1]]\n",
      "Norma inducida l1: 25\n",
      "Norma inducida máxima: 16\n",
      "--------------------\n",
      "Matriz:\n",
      "[[ 2 -1  0]\n",
      " [-1  2 -1]\n",
      " [ 0 -1  2]]\n",
      "Norma inducida l1: 1\n",
      "Norma inducida máxima: 1\n",
      "--------------------\n",
      "Matriz:\n",
      "[[ 4 -1  7]\n",
      " [-1  4  0]\n",
      " [-7  0  4]]\n",
      "Norma inducida l1: 11\n",
      "Norma inducida máxima: 10\n",
      "--------------------\n"
     ]
    }
   ],
   "source": [
    "for matriz in matrices:\n",
    "    print('Matriz:')\n",
    "    print(matriz)\n",
    "    print(f'Norma inducida l1: {l1_inducida(matriz)}')\n",
    "    print(f'Norma inducida máxima: {linf_inducida(matriz)}')\n",
    "    print(20 * '-')"
   ]
  }
 ],
 "metadata": {
  "kernelspec": {
   "display_name": "Python 3 (ipykernel)",
   "language": "python",
   "name": "python3"
  },
  "language_info": {
   "codemirror_mode": {
    "name": "ipython",
    "version": 3
   },
   "file_extension": ".py",
   "mimetype": "text/x-python",
   "name": "python",
   "nbconvert_exporter": "python",
   "pygments_lexer": "ipython3",
   "version": "3.13.2"
  }
 },
 "nbformat": 4,
 "nbformat_minor": 5
}
