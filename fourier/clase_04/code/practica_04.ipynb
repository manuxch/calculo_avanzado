{
 "cells": [
  {
   "cell_type": "markdown",
   "id": "6feea7bc-0416-49ac-adfa-f8e92f4316a7",
   "metadata": {},
   "source": [
    "# Práctica Nro. 4\n",
    "\n",
    "[![Open In Colab](https://colab.research.google.com/assets/colab-badge.svg)](https://colab.research.google.com/github/manuxch/calculo_avanzado/blob/main/fourier/clase_04/code/practica_04.ipynb)"
   ]
  },
  {
   "cell_type": "markdown",
   "id": "6340e2a7-8508-4bb2-a8e1-a87af082817e",
   "metadata": {},
   "source": [
    "En esta práctica se utiliza el módulo sympy para el cálculo simbólico y operaciones de cálculo diferencial e integral. Se puede obtener ayuda en:\n",
    "- [Evaluación numérica](https://docs.sympy.org/latest/modules/evalf.html)\n",
    "- [Cálculo diferencial e integral](https://docs.sympy.org/latest/tutorials/intro-tutorial/calculus.html)\n",
    "- [Integrales (de Fourier)](https://docs.sympy.org/latest/modules/integrals/integrals.html)"
   ]
  },
  {
   "cell_type": "code",
   "execution_count": 1,
   "id": "6e6c9303-7d3d-4cbc-8c6e-1009550fae53",
   "metadata": {
    "tags": []
   },
   "outputs": [],
   "source": [
    "import math\n",
    "import matplotlib.pyplot as plt\n",
    "plt.style.use('../../../utils/clases.mplstyle') # Borrar esta línea para correr en Colab\n",
    "import numpy as np\n",
    "from sympy import (symbols, cos, sin, sqrt, integrate, I, pi, Piecewise, \n",
    "                   exp, oo, cosine_transform, sine_transform, fourier_transform, expand)"
   ]
  },
  {
   "cell_type": "markdown",
   "id": "ae67e6d0-00d5-4d4f-9260-4b575b76986a",
   "metadata": {},
   "source": [
    "## Ejercicio 1"
   ]
  },
  {
   "cell_type": "markdown",
   "id": "74f4439a-793e-4d53-8d9a-968d6154280c",
   "metadata": {},
   "source": [
    "La representación de $f(x)$ por una **integral de Fourier** consiste en expresar $f$ como\n",
    "$$ f(x) = \\int_0^{\\infty} [A(\\omega) \\cos \\omega x + B(\\omega) \\sin \\omega x] \\, dx $$\n",
    "donde \n",
    "\\begin{align}\n",
    "A(\\omega) &= \\frac{1}{\\pi} \\int_{-\\infty}^{\\infty} f(\\xi) \\cos \\omega \\xi \\, d\\xi \\\\\n",
    "B(\\omega) &= \\frac{1}{\\pi} \\int_{-\\infty}^{\\infty} f(\\xi) \\sin \\omega \\xi \\, d\\xi \n",
    "\\end{align}"
   ]
  },
  {
   "cell_type": "markdown",
   "id": "7bbe7e36-5188-4daa-87db-175b6cf9bb18",
   "metadata": {},
   "source": [
    "Entonces, para el cálculo de $A(\\omega)$, integramos por partes:\n",
    "\\begin{align}\n",
    "\\int e^{-x} \\cos kx \\, dx &= -e^{-x} \\cos kx - \\int (-k) (\\sin kx) (e^{-x}) \\, dx \\\\\n",
    "&= -e^{-x} \\cos kx + k \\int (\\sin kx)(e^{-x}) \\, dx\n",
    "\\tag{1.1}\n",
    "\\end{align}\n",
    "Ahora volvemos a integrar por partes la última integral:\n",
    "\\begin{align}\n",
    "\\int (\\sin kx)(e^{-x}) \\, dx &= -e^{-x} \\sin kx - \\int k (\\cos kx) (e^{-x}) \\, dx \\\\\n",
    "&= -e^{-x} \\sin kx - k \\int (\\cos kx)(e^{-x}) \\, dx\n",
    "\\tag{1.2}\n",
    "\\end{align}\n",
    "Reemplazando (1.2) em (1.1) resulta\n",
    "$$ \\int e^{-x} \\cos kx \\, dx =  -e^{-x} \\cos kx - ke^{-x} \\sin kx - k^2 \\int (\\cos kx)(e^{-x}) \\, dx $$\n",
    "Dado que aparece la misma integral en ambos miembros, podemos reacomodar la expresión anterior y obtener\n",
    "$$ (1 + k^2) \\int e^{-x} \\cos kx \\, dx = -e^{-x} \\cos kx - ke^{-x} \\sin kx = e^{-x} (-\\cos kx + k \\sin kx) $$\n",
    "Entonces\n",
    "$$ \\int e^{-x} \\cos kx \\, dx = \\frac{e^{-x}}{1 + k^2} (-\\cos kx + k \\sin kx) + C $$\n",
    "Con este resultado podemos evaluar la integral definida $A(\\omega)$:\n",
    "\\begin{align}\n",
    "A(\\omega) = \\frac{1}{\\pi} \\int_{0}^{\\infty} \\pi e^{-\\xi} \\cos \\omega \\xi \\, d\\xi &= \\left[ \\frac{e^{-\\xi}}{1 + \\omega^2} (-\\cos \\omega \\xi + \\omega \\sin  \\omega \\xi) \\right]_{\\xi = 0}^{\\infty} \\\\\n",
    "&= \\frac{1}{1 + \\omega^2}\n",
    "\\end{align}\n",
    "\n",
    "De la misma forma podemos proceder para evaluar $B(\\omega)$:\n",
    "\\begin{align}\n",
    "B(\\omega) = \\frac{1}{\\pi} \\int_{0}^{\\infty} \\pi e^{-\\xi} \\sin \\omega \\xi \\, d\\xi &= \\left[ \\frac{e^{-\\xi}}{1 + \\omega^2} (-\\omega \\cos \\omega \\xi - \\sin  \\omega \\xi) \\right]_{\\xi = 0}^{\\infty} \\\\\n",
    "&=  \\frac{1}{1 + \\omega^2}\n",
    "\\end{align}\n",
    "\n",
    "Finalmente, con las expresiones obtenidas para $a(\\omega)$ y $B(\\omega)$ resulta:\n",
    "$$ \\boxed{ f(x) =  \\int_0^{\\infty} \\frac{\\cos \\omega x + \\omega \\sin \\omega x}{1 + \\omega^2} \\, d\\omega } $$"
   ]
  },
  {
   "cell_type": "markdown",
   "id": "c12d70b9-45f0-428e-aa84-bfdfd16a004f",
   "metadata": {},
   "source": [
    "**Nota:** podemos evitar las integraciones por partes si trabajamos en el campo complejo, aprovechando que la función exponencial es analítica en todo el plano complejo. Usando la fórmula de Euler:\n",
    "$$ e^{ix} = \\cos x + i \\sin x $$\n",
    "Podemos escribir (con un factor $-1$ que proviene del límite inferior de integración):\n",
    "\\begin{align}\n",
    "A(\\omega) + i B(\\omega) &= \\int_0^{\\infty} e^{-\\xi - i \\omega \\xi} \\, d\\xi \\\\\n",
    "&= \\left. \\frac{1}{-(1-i\\omega)} e^{-(1 - i \\omega) \\xi} \\right|_{\\xi = 0}^{\\infty} \\\\\n",
    "&= \\frac{1}{1 - i\\omega} =  \\frac{1 + i \\omega}{1 - i \\omega^2}\n",
    "\\end{align}\n",
    "Separando las partes real e imaginarias obtenemos las integrales para $A(\\omega)$ y $V(\\omega)$, de acuerdo con el resultado previo."
   ]
  },
  {
   "cell_type": "markdown",
   "id": "dba11c22-4bcd-48ff-8536-e804f09e3686",
   "metadata": {},
   "source": [
    "Podemos evitar el cálculo de las integrales _a mano_ utilizando las funciones de integración de SymPy. Primero definimos las variables simbólicas, especificando para $\\omega$ que toma valores positivos:"
   ]
  },
  {
   "cell_type": "code",
   "execution_count": 2,
   "id": "e002a01b-8025-4724-aff9-de2811c8fc56",
   "metadata": {
    "tags": []
   },
   "outputs": [],
   "source": [
    "x = symbols('x', real=True)\n",
    "a, w = symbols('a w', real=True, positive=True)"
   ]
  },
  {
   "cell_type": "markdown",
   "id": "79d606b9-64b5-4238-8d4a-6fd39d288094",
   "metadata": {},
   "source": [
    "Ahora calculamos la integral para $A(\\omega)$ (omitiendo el factor $1/\\pi)$:"
   ]
  },
  {
   "cell_type": "code",
   "execution_count": 3,
   "id": "afcdbe91-593a-4aaa-9785-eb61106b0ab5",
   "metadata": {
    "tags": []
   },
   "outputs": [
    {
     "data": {
      "text/latex": [
       "$\\displaystyle \\frac{1}{w^{2} + 1}$"
      ],
      "text/plain": [
       "1/(w**2 + 1)"
      ]
     },
     "execution_count": 3,
     "metadata": {},
     "output_type": "execute_result"
    }
   ],
   "source": [
    "integrate(exp(-x) * cos(w * x), (x, 0, oo))"
   ]
  },
  {
   "cell_type": "markdown",
   "id": "5389cdcb-edf0-4ba8-b5ab-ff503abf9d2a",
   "metadata": {},
   "source": [
    "Y lo mismo para $B(\\omega)$:"
   ]
  },
  {
   "cell_type": "code",
   "execution_count": 4,
   "id": "c3b85f79-fd5b-4748-8b8a-f72d4b7eb991",
   "metadata": {
    "tags": []
   },
   "outputs": [
    {
     "data": {
      "text/latex": [
       "$\\displaystyle \\frac{w}{w^{2} + 1}$"
      ],
      "text/plain": [
       "w/(w**2 + 1)"
      ]
     },
     "execution_count": 4,
     "metadata": {},
     "output_type": "execute_result"
    }
   ],
   "source": [
    "integrate(exp(-x) * sin(w * x), (x, 0, oo))"
   ]
  },
  {
   "cell_type": "markdown",
   "id": "fa3f6c7a-8967-4c34-a015-7371a3ecc751",
   "metadata": {},
   "source": [
    "Podemos construir la representación en integral de Fourier en forma más compacta definiendo a $f(x)$ como función continua a tramos (omitiendo el valor en $x = 0$, que no afecta a las integraciones):"
   ]
  },
  {
   "cell_type": "code",
   "execution_count": 5,
   "id": "0654bb70-3e9d-4940-b88e-802bf39e4b9d",
   "metadata": {
    "tags": []
   },
   "outputs": [],
   "source": [
    "f = Piecewise((0, x < 0), (pi * exp(-x), x > 0)) \n",
    "A = 1/pi * integrate(f * cos(w*x), (x, 0, oo))\n",
    "B = 1/pi * integrate(f * sin(w*x), (x, 0, oo))"
   ]
  },
  {
   "cell_type": "code",
   "execution_count": 6,
   "id": "cec31c98-d97f-4ddb-96f1-197da55c593d",
   "metadata": {
    "tags": []
   },
   "outputs": [
    {
     "data": {
      "text/latex": [
       "$\\displaystyle \\frac{1}{w^{2} + 1}$"
      ],
      "text/plain": [
       "1/(w**2 + 1)"
      ]
     },
     "execution_count": 6,
     "metadata": {},
     "output_type": "execute_result"
    }
   ],
   "source": [
    "A"
   ]
  },
  {
   "cell_type": "code",
   "execution_count": 7,
   "id": "661ce9bb-fbd9-4487-b946-2ee0aff57897",
   "metadata": {},
   "outputs": [
    {
     "data": {
      "text/latex": [
       "$\\displaystyle \\frac{w}{w^{2} + 1}$"
      ],
      "text/plain": [
       "w/(w**2 + 1)"
      ]
     },
     "execution_count": 7,
     "metadata": {},
     "output_type": "execute_result"
    }
   ],
   "source": [
    "B"
   ]
  },
  {
   "cell_type": "code",
   "execution_count": 8,
   "id": "9c8f7a4f-7291-4503-971c-a611069ae957",
   "metadata": {
    "tags": []
   },
   "outputs": [
    {
     "data": {
      "text/latex": [
       "$\\displaystyle \\int\\limits_{0}^{a} \\frac{w \\sin{\\left(w x \\right)} + \\cos{\\left(w x \\right)}}{w^{2} + 1}\\, dw$"
      ],
      "text/plain": [
       "Integral((w*sin(w*x) + cos(w*x))/(w**2 + 1), (w, 0, a))"
      ]
     },
     "execution_count": 8,
     "metadata": {},
     "output_type": "execute_result"
    }
   ],
   "source": [
    "F = integrate(A * cos(w*x) + B * sin(w*x), (w, 0, a))\n",
    "F"
   ]
  },
  {
   "cell_type": "markdown",
   "id": "d86d3c17-4e6a-427d-bcf7-7ef70dba8f23",
   "metadata": {},
   "source": [
    "Ahora vamos a graficar la función $f(x)$ y su representación en integral de Fourier, para ver cómo se aproxima a $f$ a medida que tomamos valores crecientes en el límite superior de integración.\n",
    "\n",
    "Para ello definimos todas las funciones en forma numérica (por eso el sufijo `_n` que ponemos en el nombre de estas funciones, para diferenciarlas de sus análogas analíticas)"
   ]
  },
  {
   "cell_type": "code",
   "execution_count": 9,
   "id": "05444f25-9559-4a8e-9416-fa32b3a27bdd",
   "metadata": {
    "tags": []
   },
   "outputs": [],
   "source": [
    "def f_n(x):\n",
    "    if x < 0:\n",
    "        return 0\n",
    "    else:\n",
    "        return math.pi * math.exp(-x)\n",
    "    \n",
    "def A_n(o):\n",
    "    return 1 / (o**2 + 1)\n",
    "\n",
    "def B_n(o):\n",
    "    return o / (o**2 + 1)\n",
    "    \n",
    "def F_n(x_n, a_n):\n",
    "    res = np.zeros(x_n.size)\n",
    "    omega = np.linspace(0.001, a_n, x_n.size)\n",
    "    delta_omega = omega[1] - omega[0]\n",
    "    for i, x_val in enumerate(x_n):\n",
    "        res[i] = np.trapz(A_n(omega) * np.cos(omega * x_val) + B_n(omega) * np.sin(omega * x_val), \n",
    "                          dx=delta_omega)\n",
    "    return res"
   ]
  },
  {
   "cell_type": "markdown",
   "id": "be7b3846-2b55-4660-a5b1-3bb7e5d821fc",
   "metadata": {},
   "source": [
    "Para realizar el gráfico en el intervalo $(-2, 5)$ hacemos un array de numpy que toma `np` valores en ese rango. Calculamos los valores de la función (`y_np`) y luego elegimos de una lista los valores `a` que representa el extremo superior de integración para la representación integral de Fourier `F_n`:"
   ]
  },
  {
   "cell_type": "code",
   "execution_count": 10,
   "id": "bb95c166-cd4e-4003-9ae8-6942091518bc",
   "metadata": {
    "tags": []
   },
   "outputs": [
    {
     "data": {
      "image/png": "[encoded data removed]",
      "text/plain": [
       "<Figure size 640x480 with 1 Axes>"
      ]
     },
     "metadata": {},
     "output_type": "display_data"
    }
   ],
   "source": [
    "x_inf, x_sup = -2, 5\n",
    "n_puntos = 300\n",
    "x_n = np.linspace(x_inf, x_sup, n_puntos)\n",
    "y_n = np.zeros(x_n.size)\n",
    "\n",
    "#Calculamos los valores y_n = f_n(x_n)\n",
    "for i, x_v in enumerate(x_n):\n",
    "    y_n[i] = f_n(x_v)\n",
    "\n",
    "# Ahora construimos el gráfico\n",
    "plt.plot(x_n, y_n)\n",
    "for a in [5, 10, 20]:\n",
    "    plt.plot(x_n, F_n(x_n, a), label=f\"$a = {{{str(a)}}}$\", alpha=0.75)\n",
    "\n",
    "plt.xlabel(r\"$x$\")\n",
    "plt.ylabel(r\"$f(x), F(x, a)$\")\n",
    "plt.legend()\n",
    "plt.show()"
   ]
  },
  {
   "cell_type": "markdown",
   "id": "f919ec93-16b4-4a2b-925d-c6e9e38bdef2",
   "metadata": {},
   "source": [
    "## Ejercicio 2"
   ]
  },
  {
   "cell_type": "markdown",
   "id": "a85514ee-31d0-45da-8a6e-f98dcedb75a0",
   "metadata": {},
   "source": [
    "La definición de la transformada coseno de Fourier $\\hat{f}_c(\\omega)$ es\n",
    "$$ \\hat{f}_c(\\omega) = \\sqrt{\\frac{2}{\\pi}} \\int_0^{\\infty} f(x) \\cos \\omega x \\, dx $$\n",
    "\n",
    "Dado que $f(x) = 0$ para $x > 2$, tenemos\n",
    "\\begin{align}\n",
    "\\hat{f}_c(\\omega) &= \\sqrt{\\frac{2}{\\pi}} \\left[ \\int_0^1 \\cos \\omega x \\, dx + \\int_1^2 (-1) \\cos \\omega x \\, dx  \\right] \\\\\n",
    "&= \\sqrt{\\frac{2}{\\pi}} \\left( \\left. \\frac{\\sin \\omega x}{\\omega} \\right|_0^1 - \\left. \\frac{\\sin \\omega  x}{\\omega}  \\right|_1^2  \\right) \\\\\n",
    "&= \\sqrt{\\frac{2}{\\pi}} \\left( \\frac{\\sin \\omega}{\\omega} - \\frac{\\sin 2 \\omega}{\\omega} + \\frac{\\sin \\omega}{\\omega} \\right) \\\\\n",
    "&= \\sqrt{\\frac{2}{\\pi}} \\left( 2 \\frac{\\sin \\omega}{\\omega} - \\frac{\\sin 2 \\omega}{\\omega} \\right) \\\\\n",
    "\\end{align}"
   ]
  },
  {
   "cell_type": "markdown",
   "id": "02d8b621-ff01-4fbe-9782-9d951d8c6810",
   "metadata": {},
   "source": [
    "SymPy tiene una función para calcular transformadas coseno de Fourier:"
   ]
  },
  {
   "cell_type": "code",
   "execution_count": 11,
   "id": "1d44e4dc-5612-41ac-a044-85d484e5cd11",
   "metadata": {
    "tags": []
   },
   "outputs": [
    {
     "data": {
      "text/latex": [
       "$\\displaystyle \\frac{\\sqrt{2} \\left(2 \\sin{\\left(w \\right)} - \\sin{\\left(2 w \\right)}\\right)}{\\sqrt{\\pi} w}$"
      ],
      "text/plain": [
       "sqrt(2)*(2*sin(w) - sin(2*w))/(sqrt(pi)*w)"
      ]
     },
     "execution_count": 11,
     "metadata": {},
     "output_type": "execute_result"
    }
   ],
   "source": [
    "f = Piecewise((1, x < 1), (-1, x < 2), (0, x > 2)) \n",
    "Fc = cosine_transform(f, x, w)\n",
    "Fc"
   ]
  },
  {
   "cell_type": "markdown",
   "id": "c0c9c521-f79a-46a1-9c17-4fa5c6021ed4",
   "metadata": {},
   "source": [
    "Ahora nos movemos al campo numérico para comparar gráficamente la función $f(x)$ con la función aproximada que tenemos con la transformada coseno inversa, tomando un límite superior de integración cada vez mayor.\n",
    "\n",
    "Primero definimos las funciones `f_n` (que representa $f$) y `f_c` que es la reconstrucción de $f$ a partir de $\\hat{f}_c(\\omega)$ que calculamos analíticamente arriba:"
   ]
  },
  {
   "cell_type": "code",
   "execution_count": 12,
   "id": "fa86d4f8-d67a-4abb-a8bd-e50c9c1a151b",
   "metadata": {
    "tags": []
   },
   "outputs": [],
   "source": [
    "def f_n(x):\n",
    "    conds = [x < 1, (x > 1) & (x < 2), x > 2]\n",
    "    vals = [1, -1, 0]\n",
    "    return np.piecewise(x, conds, vals)\n",
    "\n",
    "def f_c(o):\n",
    "    res = 2 * np.sin(o) / o - np.sin(2 * o)/ o\n",
    "    return math.sqrt(2 / math.pi) * res\n",
    "\n",
    "def F_c(x_n, a):\n",
    "    res = np.zeros(x_n.size)\n",
    "    omega = np.linspace(0.0001, a, x_n.size)\n",
    "    delta_omega = omega[1] - omega[0]\n",
    "    for i, x_val in enumerate(x_n):\n",
    "        res[i] = np.trapz(f_c(omega) * np.cos(omega * x_val), \n",
    "                          dx=delta_omega)\n",
    "    return math.sqrt(2 / math.pi) * res"
   ]
  },
  {
   "cell_type": "markdown",
   "id": "4669b06e-2b8f-44eb-b548-bb6c55c3f0de",
   "metadata": {},
   "source": [
    "Utilizando estas funciones, construimos el gráfico para una lista de valores del límite superior de integración `a`:"
   ]
  },
  {
   "cell_type": "code",
   "execution_count": 13,
   "id": "b8f70b78-485b-4197-a1bd-f9120499e688",
   "metadata": {
    "tags": []
   },
   "outputs": [
    {
     "data": {
      "image/png": "[encoded data removed]",
      "text/plain": [
       "<Figure size 640x480 with 1 Axes>"
      ]
     },
     "metadata": {},
     "output_type": "display_data"
    }
   ],
   "source": [
    "x_sup = 4\n",
    "n_puntos = 200\n",
    "x_n = np.linspace(0, x_sup, n_puntos)\n",
    "\n",
    "plt.plot(x_n, f_n(x_n))\n",
    "for a in [5, 10, 50]:\n",
    "    plt.plot(x_n, F_c(x_n, a), label=f\"$a = {{{str(a)}}}$\", alpha=0.75)\n",
    "\n",
    "plt.xlabel(r\"$x$\")\n",
    "plt.ylabel(r\"$f(x), F_c(x, a)$\")\n",
    "plt.legend()\n",
    "plt.show()"
   ]
  },
  {
   "cell_type": "markdown",
   "id": "478b2b9c-61ce-4622-a9e0-4541d5564c2c",
   "metadata": {},
   "source": [
    "## Ejercicio 3"
   ]
  },
  {
   "cell_type": "markdown",
   "id": "daf48565-5d77-46c7-9baf-bf427b4a1521",
   "metadata": {
    "tags": []
   },
   "source": [
    "La transformada seno de Fourier está dada por\n",
    "\\begin{align}\n",
    "\\hat{f}_s(\\omega) &= \\sqrt{\\frac{2}{\\pi}} \\int_0^{\\infty} f(x) \\sin \\omega x \\, dx \\\\\n",
    "&= \\sqrt{\\frac{2}{\\pi}} \\int_0^1 x^2 \\sin \\omega x \\, dx \n",
    "\\end{align}\n",
    "Encontrar la primitiva de la última integral se hacer integrando por partes. Pero haremos uso de las capacidades de integración simbólica de SymPy para evitarnos el trabajo:"
   ]
  },
  {
   "cell_type": "code",
   "execution_count": 14,
   "id": "6de1287b-9db8-4edd-bbce-dea6ffb26f5b",
   "metadata": {
    "tags": []
   },
   "outputs": [
    {
     "data": {
      "text/latex": [
       "$\\displaystyle - \\frac{\\cos{\\left(w \\right)}}{w} + \\frac{2 \\sin{\\left(w \\right)}}{w^{2}} + \\frac{2 \\cos{\\left(w \\right)}}{w^{3}} - \\frac{2}{w^{3}}$"
      ],
      "text/plain": [
       "-cos(w)/w + 2*sin(w)/w**2 + 2*cos(w)/w**3 - 2/w**3"
      ]
     },
     "execution_count": 14,
     "metadata": {},
     "output_type": "execute_result"
    }
   ],
   "source": [
    "integrate(x**2 * sin(w * x), (x, 0, 1))"
   ]
  },
  {
   "cell_type": "markdown",
   "id": "13b7bdb5-a270-4d7c-9d00-ed8d97901a22",
   "metadata": {},
   "source": [
    "Con lo que la transformada buscada resulta\n",
    "$$ \\hat{f}_s(\\omega) = \\sqrt{\\frac{2}{\\pi}} \\left( - \\frac{\\cos \\omega}{\\omega} + 2 \\frac{\\sin \\omega}{\\omega^2} + 2 \\frac{\\cos \\omega}{\\omega^3} - \\frac{2}{\\omega^3} \\right) $$\n",
    "\n",
    "Al igual que en el ejercicio anterior, podemos obtener la transformada seno de Fourier en forma simbólica utilizando la función `sine_transform`:"
   ]
  },
  {
   "cell_type": "code",
   "execution_count": 15,
   "id": "9a003d98-0573-4072-bc8f-108f2028ea85",
   "metadata": {
    "tags": []
   },
   "outputs": [
    {
     "data": {
      "text/latex": [
       "$\\displaystyle \\frac{\\sqrt{2} \\left(- w^{2} \\cos{\\left(w \\right)} + 2 w \\sin{\\left(w \\right)} + 2 \\cos{\\left(w \\right)} - 2\\right)}{\\sqrt{\\pi} w^{3}}$"
      ],
      "text/plain": [
       "sqrt(2)*(-w**2*cos(w) + 2*w*sin(w) + 2*cos(w) - 2)/(sqrt(pi)*w**3)"
      ]
     },
     "execution_count": 15,
     "metadata": {},
     "output_type": "execute_result"
    }
   ],
   "source": [
    "f = Piecewise((x**2, x < 1), (0, x > 1))\n",
    "Fs = sine_transform(f, x, w)\n",
    "Fs"
   ]
  },
  {
   "cell_type": "code",
   "execution_count": 16,
   "id": "2a939261-4e26-4d5a-b89e-d215d94b2cac",
   "metadata": {
    "tags": []
   },
   "outputs": [],
   "source": [
    "def f_n(x):\n",
    "    if x < 1:\n",
    "        return x**2\n",
    "    else:\n",
    "        return 0\n",
    "\n",
    "def f_s(o):\n",
    "    res = -np.cos(o) / o + 2 * np.sin(o) / o**2 + 2 * np.cos(o) / o**3 - 2 / o**3\n",
    "    return math.sqrt(2 / math.pi) * res\n",
    "\n",
    "def F_s(x_n, a):\n",
    "    res = np.zeros(x_n.size)\n",
    "    omega = np.linspace(0.0001, a, x_n.size)\n",
    "    delta_omega = omega[1] - omega[0]\n",
    "    for i, x_val in enumerate(x_n):\n",
    "        res[i] = np.trapz(f_s(omega) * np.sin(omega * f_n(x_val)), dx=delta_omega)\n",
    "    return math.sqrt(2 / math.pi) * res"
   ]
  },
  {
   "cell_type": "code",
   "execution_count": 17,
   "id": "4ba397dc-2fe6-498f-980b-d4ebb86bfb23",
   "metadata": {
    "tags": []
   },
   "outputs": [
    {
     "data": {
      "image/png": "[encoded data removed]",
      "text/plain": [
       "<Figure size 640x480 with 1 Axes>"
      ]
     },
     "metadata": {},
     "output_type": "display_data"
    }
   ],
   "source": [
    "x_sup = 4\n",
    "n_puntos = 1000\n",
    "x_n = np.linspace(0, x_sup, n_puntos)\n",
    "y_n = np.zeros(x_n.size)\n",
    "for i, x_val in enumerate(x_n):\n",
    "    y_n[i] = f_n(x_val)\n",
    "\n",
    "plt.plot(x_n, y_n)\n",
    "for a in [10, 20, 50]:\n",
    "    plt.plot(x_n, F_s(x_n, a), label=f\"$a = {{{str(a)}}}$\", alpha=0.75)\n",
    "\n",
    "plt.xlabel(r\"$x$\")\n",
    "plt.ylabel(r\"$f(x), F_s(x, a)$\")\n",
    "plt.legend()\n",
    "plt.show()"
   ]
  },
  {
   "cell_type": "markdown",
   "id": "f2740be3-3672-4f0e-9178-17c1a738b73c",
   "metadata": {},
   "source": [
    "## Ejercicio 4"
   ]
  },
  {
   "cell_type": "markdown",
   "id": "315567f9-2d14-4867-8e63-3d9a2c2a7372",
   "metadata": {},
   "source": [
    "El teorema enuncia que, si las transformadas de Fourier de $f(x)$ y $g(x)$ existen, entonces para cualquier par de constantes $a$ y $b$ existe la transformada de Fourier de $af + bg$, y\n",
    "\n",
    "\\begin{equation}\n",
    "\\mathscr{F}[a f(x) + b g(x)] = a \\mathscr{F}(f) + b \\mathscr{F}(g)\n",
    "\\tag{4.1}\n",
    "\\end{equation}\n",
    "\n",
    "La demostración se basa en que la integración es una operación lineal, por lo que la ecuación (4.1) da\n",
    "\n",
    "\\begin{align}\n",
    "\\mathscr{F}[a f(x) + b g(x)] &= \\frac{1}{\\sqrt{2 \\pi}} \\int_{-\\infty}^{\\infty} [a f(x) + b g(x)] e^{-i \\omega x} \\, dx \\\\\n",
    "&= a \\frac{1}{\\sqrt{2 \\pi}} \\int_{-\\infty}^{\\infty} f(x) e^{-i \\omega x} \\, dx + b \\frac{1}{\\sqrt{2 \\pi}} \\int_{-\\infty}^{\\infty} g(x) e^{-i \\omega x} \\, dx \\\\\n",
    "&= a \\mathscr{F}[f(x)] + b \\mathscr{F}[g(x)]\n",
    "\\end{align}"
   ]
  },
  {
   "cell_type": "markdown",
   "id": "277f76da-8ea8-4846-a2c1-87ff51629f60",
   "metadata": {},
   "source": [
    "## Ejercicio 5"
   ]
  },
  {
   "cell_type": "markdown",
   "id": "d5ebd777-f116-49c8-b416-16dafd353df8",
   "metadata": {},
   "source": [
    "A partir de la definición de la transformada de Fourier tenemos que\n",
    "\n",
    "\\begin{equation}\n",
    "\\mathscr{F}[f'(x)] = \\frac{1}{\\sqrt{2 \\pi}} \\int_{-\\infty}^{\\infty} f'(x) e^{-i \\omega x} \\, dx\n",
    "\\tag{5.1}\n",
    "\\end{equation}\n",
    "\n",
    "Recordemos que la integración por partes es un proceso que encuentra la integral de un producto de funciones en términos de la integral del producto de sus derivadas y antiderivadas:\n",
    "\n",
    "\\begin{align}\n",
    "\\int_a^b u(x) v'(x) \\, dx &= \\left[ u(x) v(x) \\right]_a^b - \\int_a^b u'(x) v(x) \\, dx \\\\\n",
    "&= u(b) v(b) - u(a) v(a) - \\int_a^b u'(x) v(x) \\, dx \n",
    "\\end{align}\n",
    "\n",
    "O, escribiendo $u = u(x)$ y $du = u'(x) dx$ y $v = v(x)$ y $dv = v'(x) dx$, la fórmula se puede escribir en forma más compacta:\n",
    "\n",
    "$$ \\int u \\, dv = u v - \\int v \\, du $$\n",
    "\n",
    "Entonces, integrando por partes (5.1) con $u = e^{-i \\omega x}$ y $dv = f'(x) dx$:\n",
    "\n",
    "$$ \\mathscr{F}[f'(x)] = \\frac{1}{\\sqrt{2 \\pi}} \\left[ \\left. f(x) e^{-i \\omega x} \\right|_{-\\infty}^{\\infty} - (-i \\omega) \\int_{-\\infty}^{\\infty} f(x) e^{-i \\omega x} \\, dx \\right] $$\n",
    "\n",
    "Dada la condición $f(x) \\rightarrow 0$ cuando $|x| \\rightarrow \\infty$, obtenemos el resultado buscado:\n",
    "\n",
    "$$ \\mathscr{F}[f'(x)] = 0 + \\mathscr{F}[f(x)] $$"
   ]
  },
  {
   "cell_type": "markdown",
   "id": "3fd2b5cc-62f9-43e6-91c3-e071a1e70741",
   "metadata": {},
   "source": [
    "## Ejercicio 6"
   ]
  },
  {
   "cell_type": "markdown",
   "id": "eac5b401-e5f1-4362-92a4-961442a4717e",
   "metadata": {},
   "source": [
    "Del ejercicio 5 podemos ver que\n",
    "\n",
    "\\begin{align}\n",
    "\\mathscr{F}(x e^{-x^2}) &= \\mathscr{F} \\left[ -\\dfrac{1}{2} \\left( e^{-x^2} \\right)' \\right] \\\\\n",
    "&= -\\frac{1}{2} \\mathscr{F} \\left( e^{-x^2} \\right)' \\\\\n",
    "&= -\\frac{1}{2} i\\omega \\mathscr{F} \\left( e^{-x^2} \\right) \\tag{6.1} \\\\\n",
    "\\end{align}\n",
    "\n",
    "La transformada de Fourier de (6.1) se puede obtener por tabla, o realizando la integración que define la transformada. Seguiremos este último camino utilizando la integración simbólica de SymPy:"
   ]
  },
  {
   "cell_type": "code",
   "execution_count": 18,
   "id": "b79e5695-ca6c-4760-92bf-1f800d6a78dc",
   "metadata": {
    "tags": []
   },
   "outputs": [
    {
     "data": {
      "text/latex": [
       "$\\displaystyle \\frac{\\sqrt{2} e^{- \\frac{w^{2}}{4}}}{2}$"
      ],
      "text/plain": [
       "sqrt(2)*exp(-w**2/4)/2"
      ]
     },
     "execution_count": 18,
     "metadata": {},
     "output_type": "execute_result"
    }
   ],
   "source": [
    "x = symbols('x', real=True)\n",
    "w = symbols('w', real=True, positive=True)\n",
    "integ = 1 / sqrt(2 * pi) * integrate(exp(-x**2) * exp(-I * w *x), (x, -oo, oo))\n",
    "expand(integ)"
   ]
  },
  {
   "cell_type": "markdown",
   "id": "5fb3d1ae-4137-4c7b-919e-1902c78fb84c",
   "metadata": {},
   "source": [
    "Reemplazando el valor obtenido para la transformada de Fourier de $e^{-x^2}$ en (6.1), obtenemos\n",
    "\n",
    "\\begin{equation}\n",
    "\\mathscr{F}(x e^{-x^2}) = -\\frac{1}{2} i \\omega \\frac{\\sqrt{2}}{2} e^{-\\omega^2/4} = -\\frac{\\sqrt{2} \\, i \\omega}{4} e^{-\\omega^2/4} \n",
    "\\tag{6.2}\n",
    "\\end{equation}"
   ]
  },
  {
   "cell_type": "markdown",
   "id": "05e392da-ee82-4c63-959c-72cc78a65ee8",
   "metadata": {},
   "source": [
    "Sympy tiene funciones que permiten obtener la transformada de Fourier directamente. Por ejemplo:"
   ]
  },
  {
   "cell_type": "code",
   "execution_count": 19,
   "id": "79c349c3-22e5-4afa-9b90-5ca07bcc5e31",
   "metadata": {
    "tags": []
   },
   "outputs": [
    {
     "data": {
      "text/latex": [
       "$\\displaystyle \\sqrt{\\pi} e^{- \\pi^{2} w^{2}}$"
      ],
      "text/plain": [
       "sqrt(pi)*exp(-pi**2*w**2)"
      ]
     },
     "execution_count": 19,
     "metadata": {},
     "output_type": "execute_result"
    }
   ],
   "source": [
    "fourier_transform(exp(-x**2), x, w)"
   ]
  },
  {
   "cell_type": "markdown",
   "id": "084be2fa-915e-479c-a876-e34eacbff316",
   "metadata": {},
   "source": [
    "Vemos que esta expresión no coincide con la obtenida en la variable `integ` anterior. Esto se debe a que la definición de la transformada de Fourier que usa SymPy, según su [documentación](https://docs.sympy.org/latest/modules/integrals/integrals.html#sympy.integrals.transforms.fourier_transform), es:\n",
    "\n",
    "$$F(k) = \\int_{-\\infty}^{\\infty} f(x) e^{-2 \\pi i x k} \\, dx $$\n",
    "\n",
    "Para que esta definición nos devuelva la definición que usamos en este curso, tenemos que usar:\n",
    "$$ f(x) \\mapsto \\frac{1}{\\sqrt{2 \\pi}} f(x) $$\n",
    "y\n",
    "$$ k \\mapsto \\frac{\\omega}{2 \\pi} $$\n",
    "\n",
    "Entonces:"
   ]
  },
  {
   "cell_type": "code",
   "execution_count": 21,
   "id": "50c511a4-cdb0-4dea-86ed-89c7bfe0f65c",
   "metadata": {
    "tags": []
   },
   "outputs": [
    {
     "data": {
      "text/latex": [
       "$\\displaystyle \\frac{\\sqrt{2} e^{- \\frac{w^{2}}{4}}}{2}$"
      ],
      "text/plain": [
       "sqrt(2)*exp(-w**2/4)/2"
      ]
     },
     "execution_count": 21,
     "metadata": {},
     "output_type": "execute_result"
    }
   ],
   "source": [
    "fourier_transform(1/sqrt(2 * pi) * exp(-x**2), x, w/(2 * pi))"
   ]
  },
  {
   "cell_type": "markdown",
   "id": "e4351b0f-daf8-46ea-b355-1a5e2e47efe3",
   "metadata": {},
   "source": [
    "## Ejercicio 7"
   ]
  },
  {
   "cell_type": "markdown",
   "id": "a6f91de7-cdfb-44ac-8e24-4b8b34eec7b7",
   "metadata": {},
   "source": [
    "Calculamos la transformada utilizando directamente la definición (aprovechando que $e^{-i \\omega x}$ es una función **analítica**):\n",
    "\n",
    "\\begin{align}\n",
    "\\hat{f}(\\omega) &= \\int_a^b 1 \\cdot e^{-i \\omega x} \\, dx \\\\\n",
    "&= \\frac{1}{\\sqrt{2 \\pi}} \\left[ \\frac{e^{-i \\omega x}}{-i \\omega} \\right]_{x = a}^b \\\\\n",
    "&= \\frac{1}{-i \\omega \\sqrt{2 \\pi}} \\left( e^{-i \\omega b} - e^{-i \\omega a} \\right) \\\\\n",
    "&= \\frac{i}{\\omega \\sqrt{2 \\pi}} \\left( e^{-i \\omega b} - e^{-i \\omega a} \\right) \\\\\n",
    "\\end{align}"
   ]
  },
  {
   "cell_type": "markdown",
   "id": "fa7676e1-2ae2-463d-ae13-3fd62b460ec8",
   "metadata": {},
   "source": [
    "Intentaremos ahora encontrar la transformada de $f(x)$ sin realizar la integración sino usando SymPy para que haga el trabajo por nosotros. Para ello primero tenemos que definir las variables simbólicas `x`, `a`, `b` y `w` (que representa a $\\omega > 0$), y a continuación definimos `f` como una función continua a tramos:"
   ]
  },
  {
   "cell_type": "code",
   "execution_count": 25,
   "id": "72a4e924-dff0-4126-9974-59f0111b00eb",
   "metadata": {
    "tags": []
   },
   "outputs": [],
   "source": [
    "x, a, b = symbols('x a b', real=True)\n",
    "w = symbols('w', real=True, positive=True)\n",
    "f = Piecewise((0, x < a), (1, x < b), (0, x > b))"
   ]
  },
  {
   "cell_type": "markdown",
   "id": "515ccb41-7308-4982-bb12-04d8361f3b7e",
   "metadata": {},
   "source": [
    "Ahora invocamos la función `fourier_transform()` teniendo en cuenta que para que el resultado coincida con nuestra definición de transformada (y no la que usa SymPy por defecto), tenemos que multiplicar la función por $1 / \\sqrt{2 \\pi}$ y usar como variable $\\omega \\mapsto \\omega / (2 \\pi)$:"
   ]
  },
  {
   "cell_type": "code",
   "execution_count": 24,
   "id": "3d78810d-2121-46d0-8b1d-420bcc363b09",
   "metadata": {
    "tags": []
   },
   "outputs": [
    {
     "data": {
      "text/latex": [
       "$\\displaystyle \\frac{\\sqrt{2} i e^{- i w \\max\\left(a, b\\right)}}{2 \\sqrt{\\pi} w} - \\frac{\\sqrt{2} i e^{- i a w}}{2 \\sqrt{\\pi} w}$"
      ],
      "text/plain": [
       "sqrt(2)*I*exp(-I*w*Max(a, b))/(2*sqrt(pi)*w) - sqrt(2)*I*exp(-I*a*w)/(2*sqrt(pi)*w)"
      ]
     },
     "execution_count": 24,
     "metadata": {},
     "output_type": "execute_result"
    }
   ],
   "source": [
    "expand(fourier_transform(1/sqrt(2 * pi) * f, x, w/(2 * pi)))"
   ]
  },
  {
   "cell_type": "markdown",
   "id": "7f1ac9ea-b161-4f67-9ebd-91f97e6f4a3b",
   "metadata": {},
   "source": [
    "Vemos que el resultado coincide con el obtenido previamente si"
   ]
  }
 ],
 "metadata": {
  "kernelspec": {
   "display_name": "Python 3 (ipykernel)",
   "language": "python",
   "name": "python3"
  },
  "language_info": {
   "codemirror_mode": {
    "name": "ipython",
    "version": 3
   },
   "file_extension": ".py",
   "mimetype": "text/x-python",
   "name": "python",
   "nbconvert_exporter": "python",
   "pygments_lexer": "ipython3",
   "version": "3.12.2"
  }
 },
 "nbformat": 4,
 "nbformat_minor": 5
}
