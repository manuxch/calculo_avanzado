{
 "cells": [
  {
   "cell_type": "markdown",
   "id": "6feea7bc-0416-49ac-adfa-f8e92f4316a7",
   "metadata": {},
   "source": [
    "# Práctica Nro. 3\n",
    "\n",
    "[![Abrir en Colab](https://colab.research.google.com/assets/colab-badge.svg)](https://colab.research.google.com/github/manuxch/calculo_avanzado/blob/main/03-laplace/code/practica_03.ipynb)"
   ]
  },
  {
   "cell_type": "markdown",
   "id": "6340e2a7-8508-4bb2-a8e1-a87af082817e",
   "metadata": {},
   "source": [
    "En esta práctica se utiliza el módulo sympy para el cálculo simbólico y operaciones de cálculo diferencial e integral. Se puede obtener ayuda en:\n",
    "- [Evaluación numérica](https://docs.sympy.org/latest/modules/evalf.html)\n",
    "- [Cálculo diferencial e integral](https://docs.sympy.org/latest/tutorials/intro-tutorial/calculus.html)\n",
    "- [Integrales (de Laplace)](https://docs.sympy.org/latest/modules/integrals/integrals.html)\n",
    "\n",
    "**Nota:** Para que la transformada de Laplace de SymPy pueda devolver expresiones de derivadas de funciones desconocidas hay que utilizar una versión > 1.10."
   ]
  },
  {
   "cell_type": "code",
   "execution_count": 1,
   "id": "6e6c9303-7d3d-4cbc-8c6e-1009550fae53",
   "metadata": {
    "tags": []
   },
   "outputs": [],
   "source": [
    "import math\n",
    "import matplotlib as mpl\n",
    "import matplotlib.pyplot as plt\n",
    "import numpy as np\n",
    "import sympy as sym\n",
    "from sympy import (DiracDelta, exp, cos, sin, laplace_transform, Heaviside, collect, lambdify,\n",
    "                   symbols, Function, inverse_laplace_transform, Eq, diff, solve, plot, Subs)\n",
    "from sympy.abc import t, s, a\n",
    "sym.init_printing()\n",
    "\n",
    "# Opciones para hacer las figuras\n",
    "mpl.rcParams['text.usetex'] = True\n",
    "mpl.rcParams['axes.titlesize'] = 24\n",
    "mpl.rcParams['axes.labelsize'] = 20\n",
    "mpl.rcParams['lines.linewidth'] = 2\n",
    "mpl.rcParams['lines.markersize'] = 10\n",
    "mpl.rcParams['xtick.labelsize'] = 16\n",
    "mpl.rcParams['ytick.labelsize'] = 16\n",
    "mpl.rcParams['figure.figsize'] = (6.4, 4.8)\n",
    "mpl.rcParams['legend.fontsize'] = 16"
   ]
  },
  {
   "cell_type": "markdown",
   "id": "ae67e6d0-00d5-4d4f-9260-4b575b76986a",
   "metadata": {},
   "source": [
    "## Ejercicio 1"
   ]
  },
  {
   "cell_type": "markdown",
   "id": "74f4439a-793e-4d53-8d9a-968d6154280c",
   "metadata": {
    "tags": []
   },
   "source": [
    "La integral de la transformada de Laplace se puede obtener de alguna tabla, lo que resulta en:\n",
    "\\begin{align}\n",
    "\\mathscr{L}(f)(s) &= \\int_0^{\\infty} e^{-st} \\cos at \\, dt   \\\\\n",
    "&= \\lim_{M \\rightarrow \\infty} \\int_0^{M} e^{-st} \\cos at \\, dt   \\\\\n",
    "&= \\lim_{M \\rightarrow \\infty} \\left. \\frac{e^{-st} (a \\sin at - s \\cos at)}{s^2 + a^2} \\right|_0^M\n",
    "&= \\frac{s}{s^2 + a^2}\n",
    "\\end{align}"
   ]
  },
  {
   "cell_type": "markdown",
   "id": "2aa25585-ce53-46a2-bbe3-c7d2e70ef1fb",
   "metadata": {},
   "source": [
    "Alternativamente, podemos resolverlo de otro modo recordando de la teoría que\n",
    "\n",
    "$$ \\mathscr{L}[e^{at}](s) = \\frac{1}{s - a} $$\n",
    "\n",
    "Si reemplazamos $a$ por $a i$ tenemos:\n",
    "\\begin{align}\n",
    "\\mathscr{L}[e^{ait}](s) &= \\mathscr{L}[\\cos at + i \\sin at](s) \\\\\n",
    "&= \\mathscr{L}[\\cos at](s) + i \\mathscr{L}[\\sin at](s) \\tag{1.1}\\\\\n",
    "&= \\frac{1}{s - a i} = \\frac{1}{s - a i} \\frac{s + ai}{s + ai} = \\frac{s + a i}{s^2 + a^2} \\\\\n",
    "&= \\frac{s}{s^2 + a^2} + i \\frac{a}{s^2 + a^2} \\tag{1.2}\n",
    "\\end{align}\n",
    "\n",
    "Igualando las partes real e imaginarias de (1.1) y (1.2), obtenemos:\n",
    "$$ \\mathscr{L}[\\cos at](s) = \\frac{s}{s^2 + a^2}, \\quad \\mathscr{L}[\\sin at](s) = \\frac{a}{s^2 + a^2} $$"
   ]
  },
  {
   "cell_type": "markdown",
   "id": "c25fbd59-f6e6-48e9-a32d-b50ac66b96e2",
   "metadata": {},
   "source": [
    "Ahora vamos a resolverlo utilizando los recursos de cálculo simbólico que provee SymPy. "
   ]
  },
  {
   "cell_type": "code",
   "execution_count": 2,
   "id": "938feb97-5fc6-4dd3-a208-f9a06471ef6f",
   "metadata": {
    "tags": []
   },
   "outputs": [
    {
     "data": {
      "image/png": "[encoded data removed]",
      "text/latex": [
       "$\\displaystyle \\left( \\frac{s}{a^{2} + s^{2}}, \\  \\left|{\\operatorname{im}{\\left(a\\right)}}\\right|, \\  \\text{True}\\right)$"
      ],
      "text/plain": [
       "⎛   s                  ⎞\n",
       "⎜───────, │im(a)│, True⎟\n",
       "⎜ 2    2               ⎟\n",
       "⎝a  + s                ⎠"
      ]
     },
     "execution_count": 2,
     "metadata": {},
     "output_type": "execute_result"
    }
   ],
   "source": [
    "f = cos(a*t)\n",
    "laplace_transform(f, t, s)"
   ]
  },
  {
   "cell_type": "markdown",
   "id": "a31a83a1-8c59-4a4f-b80e-af1d5fe80814",
   "metadata": {},
   "source": [
    "La función `laplace_transfrom()` devuelve una tupla en la que el primer elemento es la transformada $F(s) = \\mathscr{L}(f)$, el segundo es el semiplano de convergencia y el tercer elemento son condiciones de convergencia auxiliares. Si solo queremos obtener $F(s)$ podemos especificar el elemento cero de la tupla:"
   ]
  },
  {
   "cell_type": "code",
   "execution_count": 3,
   "id": "75641537-05e0-4d6c-8a44-38a8e2bfe590",
   "metadata": {
    "tags": []
   },
   "outputs": [
    {
     "data": {
      "image/png": "[encoded data removed]",
      "text/latex": [
       "$\\displaystyle \\frac{s}{a^{2} + s^{2}}$"
      ],
      "text/plain": [
       "   s   \n",
       "───────\n",
       " 2    2\n",
       "a  + s "
      ]
     },
     "execution_count": 3,
     "metadata": {},
     "output_type": "execute_result"
    }
   ],
   "source": [
    "laplace_transform(f, t, s)[0]"
   ]
  },
  {
   "cell_type": "markdown",
   "id": "3c82c191-b4f7-420a-ac13-6629f96a75a3",
   "metadata": {},
   "source": [
    "## Ejercicio 2"
   ]
  },
  {
   "cell_type": "markdown",
   "id": "6db51a2e-df2b-4974-b06f-77944bf25ac6",
   "metadata": {},
   "source": [
    "Hemos visto que \n",
    "$$ \\mathscr{L}(t^n) = \\frac{n!}{s^{n + 1}} \\tag{2.1} $$ \n",
    "es válida para $n = 0$, ya que en ese caso, como vimos en la teoría y considerando que $0! = 1$:\n",
    "$$ \\mathscr{L}(t^0) = \\mathscr{L}(1) = \\frac{1}{s} $$\n",
    "\n",
    "Entonces proponemos la hipótesis de inducción y asumimos que (2.1) vale para algún entero $n \\geq 0$, y probaremos que vale entonces para $n + 1$. Integrando por partes (2.1) tenemos\n",
    "\\begin{align}\n",
    "\\mathscr{L}(t^{n + 1}) &= \\int_0^{\\infty} e^{-st} t^{n+1} \\, dt \\\\\n",
    "&= \\left. -\\frac{1}{s} e^{-st} t^{n+1} \\right|_0^{\\infty} + \\frac{n + 1}{s} \\int_0^{\\infty} e^{-st} t^n \\, dt\n",
    "\\end{align}\n",
    "En la última expresión, la parte sin integral es nula al evaluarla en los límites, mientras que el segundo término es $(n + 1)/s$ veces $\\mathscr{L}(t^n)$. De aquí, y por la hipótesis de inducción:\n",
    "$$ \\mathscr{L}(t^{n + 1}) = \\frac{n + 1}{s} \\mathscr{L}(t^{n}) = \\frac{n + 1}{s}  \\frac{n!}{s^{n + 1}} = \\frac{(n + 1)!}{s^{n + 2}} $$\n",
    "Esto prueba la fórmula (2.1)."
   ]
  },
  {
   "cell_type": "markdown",
   "id": "e3d15d8a-3e8b-4e72-b72c-1c3be00cb5d3",
   "metadata": {},
   "source": [
    "## Ejercicio 3"
   ]
  },
  {
   "cell_type": "markdown",
   "id": "c00b3749-5a5a-4f76-93e9-d1bca8b2f9c1",
   "metadata": {},
   "source": [
    "Para hallar la transformada de $H(t-a)$ utilizamos directamente la definición:\n",
    "\\begin{align}\n",
    "\\mathscr{L}[H(t-a)](s) &= \\int_0^{\\infty} e^{-st} H(t-a) \\, dt \\\\\n",
    "&= \\int_0^{\\infty} e^{-st} 1 \\, dt = \\left. -\\frac{e^{-st}}{s} \\right|_{t = a}^{\\infty}\n",
    "\\end{align}"
   ]
  },
  {
   "cell_type": "markdown",
   "id": "f88f3833-b7da-449c-ab15-26b382ebcc5f",
   "metadata": {},
   "source": [
    "En la última expresión, el límite inferior de integración es $t = a$ dado que por la definición de $H(t-a)$, esta función es nula para $t < a$.Por lo tanto:\n",
    "$$ \\mathscr{L}`H(t - a)](s) = \\frac{e^{-as}}{s} $$"
   ]
  },
  {
   "cell_type": "markdown",
   "id": "cd2bcfa9-5cac-4615-a342-e9830e095176",
   "metadata": {},
   "source": [
    "SymPy tiene definida la función Heaviside, con la particularidad de que $H(0) = 1/2$, aunque esto puede ser redefinido en la misma función utilizando como argumento `H0`. "
   ]
  },
  {
   "cell_type": "code",
   "execution_count": 4,
   "id": "5e68b94f-d273-4178-8695-e0560d9adcdf",
   "metadata": {
    "tags": []
   },
   "outputs": [
    {
     "data": {
      "image/png": "[encoded data removed]",
      "text/latex": [
       "$\\displaystyle \\left( \\frac{e^{- a s}}{s}, \\  0, \\  a > 0 \\wedge \\frac{1}{a} \\neq 0\\right)$"
      ],
      "text/plain": [
       "⎛ -a⋅s                  ⎞\n",
       "⎜ℯ                 1    ⎟\n",
       "⎜─────, 0, a > 0 ∧ ─ ≠ 0⎟\n",
       "⎝  s               a    ⎠"
      ]
     },
     "execution_count": 4,
     "metadata": {},
     "output_type": "execute_result"
    }
   ],
   "source": [
    "laplace_transform(Heaviside(t - a), t, s)"
   ]
  },
  {
   "cell_type": "markdown",
   "id": "e1da4cfa-d0f7-450e-9104-38bf37602b0f",
   "metadata": {},
   "source": [
    "Obtenemos el mismo resultado anterior para $F(s)$, con la condición de convergencia $a > 0$, y por las condiciones suplementarias de convergencia vemos que $a$ debe ser un número real positivo distinto de cero."
   ]
  },
  {
   "cell_type": "markdown",
   "id": "080e16e4-a8c3-457e-b3eb-88efe7928f2c",
   "metadata": {},
   "source": [
    "## Ejercicio 4"
   ]
  },
  {
   "cell_type": "markdown",
   "id": "01f89fbf-d9ab-4f23-bf16-84805e8ac5c6",
   "metadata": {},
   "source": [
    "Llamemos $Y(s)$ a $\\mathscr{L}[y](s)$. Tomamos la transformada de Laplace de la ecuación diferencial utilizando la linealidad de $\\mathscr{L}$ y la propiedad de la transformada de $y'(t)$:\n",
    "\\begin{align}\n",
    "\\mathscr{L}[y' - 4 y](s) &= \\mathscr{L}[y'](s) - 4 \\mathscr{L}[y](s) \\\\\n",
    "&= [s Y(s) - y(0)] - 4 Y(s) = \\mathscr{L}[1](s) = \\frac{1}{s}\n",
    "\\end{align}\n",
    "donde usamos que $\\mathscr{L}[1] = 1 / s$ para $s > 0$. Ahora tenemos:\n",
    "$$ (s - 4) Y(s) = y(0) + \\frac{1}{s} = 1 + \\frac{1}{s} $$\n",
    "que representa una ecuación algebraica en la función incógnita $Y(s)$. Al resolverla obtenemos:\n",
    "$$ Y(s) = \\frac{1}{s - 4} + \\frac{1}{s (s - 4)} $$\n",
    "\n",
    "La solución entonces del problema con valores iniciales se obtiene anti transformando la expresión anterior:\n",
    "$$ y = \\mathscr{L}^{-1}[Y] = \\mathscr{L}^{-1} \\left[ \\frac{1}{s - 4} \\right] + \\mathscr{L}^{-1} \\left[ \\frac{1}{s (s - 4)} \\right] $$\n",
    "\n",
    "Podemos obtener las anti transformadas consultando una tabla de transformadas de Laplace, o le podemos pedir a SymPy que haga ese trabajo por nosotros:"
   ]
  },
  {
   "cell_type": "code",
   "execution_count": 5,
   "id": "edb6441f-2515-4120-b188-c0faca88f2be",
   "metadata": {
    "tags": []
   },
   "outputs": [
    {
     "data": {
      "image/png": "[encoded data removed]",
      "text/latex": [
       "$\\displaystyle e^{4 t} \\theta\\left(t\\right)$"
      ],
      "text/plain": [
       " 4⋅t     \n",
       "ℯ   ⋅θ(t)"
      ]
     },
     "execution_count": 5,
     "metadata": {},
     "output_type": "execute_result"
    }
   ],
   "source": [
    "inverse_laplace_transform(1/(s - 4), s, t)"
   ]
  },
  {
   "cell_type": "code",
   "execution_count": 6,
   "id": "bc9f71d4-e365-4ab5-b18e-6180397d8db2",
   "metadata": {
    "tags": []
   },
   "outputs": [
    {
     "data": {
      "image/png": "[encoded data removed]",
      "text/latex": [
       "$\\displaystyle \\frac{e^{4 t} \\theta\\left(t\\right)}{4} - \\frac{\\theta\\left(t\\right)}{4}$"
      ],
      "text/plain": [
       " 4⋅t            \n",
       "ℯ   ⋅θ(t)   θ(t)\n",
       "───────── - ────\n",
       "    4        4  "
      ]
     },
     "execution_count": 6,
     "metadata": {},
     "output_type": "execute_result"
    }
   ],
   "source": [
    "inverse_laplace_transform(1/(s * (s - 4)), s, t)"
   ]
  },
  {
   "cell_type": "markdown",
   "id": "ae882476-37e5-47b6-b81b-5d7de9286752",
   "metadata": {},
   "source": [
    "En estas expresiones, $\\theta(t)$ es la representación de SymPy de la función Heaviside $H(t)$. Dado que buscamos la solución para $t > 0$, el resultado del problema con valores iniciales es\n",
    "\\begin{align}\n",
    "y(t) &= e^{4 t} + \\frac{1}{4} \\left( e^{4 t} - 1 \\right) \\\\\n",
    "&= \\frac{5}{4} e^{4 t} - \\frac{1}{4}\n",
    "\\end{align}"
   ]
  },
  {
   "cell_type": "markdown",
   "id": "de5d536d-a486-42ad-a680-256dc4bf3430",
   "metadata": {},
   "source": [
    "Vamos a resolver el problema íntegramente utilizando el poder de cálculo simbólico de SymPy. Primero definimos los símbolos que vamos a utilizar para representar el problema de valores iniciales:"
   ]
  },
  {
   "cell_type": "code",
   "execution_count": 7,
   "id": "4851afbc-16f3-46b8-9500-b307ea72ba57",
   "metadata": {
    "tags": []
   },
   "outputs": [],
   "source": [
    "s, t = symbols('s t')\n",
    "y = Function('y')\n",
    "Y = laplace_transform(y(t), t, s)"
   ]
  },
  {
   "cell_type": "markdown",
   "id": "eb1de1ff-167a-4767-a767-15d7bfe34877",
   "metadata": {},
   "source": [
    "A continuación definimos la ecuación diferencial:"
   ]
  },
  {
   "cell_type": "code",
   "execution_count": 8,
   "id": "a9f6758e-5e60-48ee-bfb6-30477e8698dc",
   "metadata": {
    "tags": []
   },
   "outputs": [
    {
     "data": {
      "image/png": "[encoded data removed]",
      "text/latex": [
       "$\\displaystyle - 4 y{\\left(t \\right)} + \\frac{d}{d t} y{\\left(t \\right)} = 1$"
      ],
      "text/plain": [
       "          d           \n",
       "-4⋅y(t) + ──(y(t)) = 1\n",
       "          dt          "
      ]
     },
     "execution_count": 8,
     "metadata": {},
     "output_type": "execute_result"
    }
   ],
   "source": [
    "ec_dif = Eq(y(t).diff(t) - 4 * y(t),  1)\n",
    "ec_dif"
   ]
  },
  {
   "cell_type": "markdown",
   "id": "0f5c0ac6-c997-4c95-abc6-8a2981289df7",
   "metadata": {},
   "source": [
    "y también las condiciones iniciales, en forma de diccionario de Python:"
   ]
  },
  {
   "cell_type": "code",
   "execution_count": 9,
   "id": "009ab46c-ad68-40c0-93d7-17226b403aa9",
   "metadata": {
    "tags": []
   },
   "outputs": [],
   "source": [
    "cond_ini = {y(0): 1}"
   ]
  },
  {
   "cell_type": "code",
   "execution_count": 10,
   "id": "81b503d5-16aa-4aab-a718-37603279c522",
   "metadata": {
    "tags": []
   },
   "outputs": [
    {
     "data": {
      "image/png": "[encoded data removed]",
      "text/latex": [
       "$\\displaystyle s \\mathcal{L}_{t}\\left[y{\\left(t \\right)}\\right]\\left(s\\right) - 4 \\mathcal{L}_{t}\\left[y{\\left(t \\right)}\\right]\\left(s\\right) - y{\\left(0 \\right)}$"
      ],
      "text/plain": [
       "s⋅LaplaceTransform(y(t), t, s) - 4⋅LaplaceTransform(y(t), t, s) - y(0)"
      ]
     },
     "execution_count": 10,
     "metadata": {},
     "output_type": "execute_result"
    }
   ],
   "source": [
    "laplace_transform(ec_dif.lhs, t, s)[0]"
   ]
  },
  {
   "cell_type": "markdown",
   "id": "b5f0cd50-f32a-44ac-be65-00e95ead6818",
   "metadata": {},
   "source": [
    "Vemos que la transformada del miembro izquierdo de nuestra ecuación diferencial aplica la regla de la transformada de la derivada de $y(t)$, en la que aparece el valor inicial de la función $y(0)$.\n",
    "\n",
    "Ahora definimos la ecuación algebraica tomando las transformadas de Laplace del miembro izquierdo y derecho, respectivamente, de `ec_dif`:"
   ]
  },
  {
   "cell_type": "code",
   "execution_count": 11,
   "id": "5e8e0b72-2bb9-4025-ad3e-f1d540f672d5",
   "metadata": {
    "tags": []
   },
   "outputs": [
    {
     "data": {
      "image/png": "[encoded data removed]",
      "text/latex": [
       "$\\displaystyle s \\mathcal{L}_{t}\\left[y{\\left(t \\right)}\\right]\\left(s\\right) - 4 \\mathcal{L}_{t}\\left[y{\\left(t \\right)}\\right]\\left(s\\right) - 1 = \\frac{1}{s}$"
      ],
      "text/plain": [
       "                                                                      1\n",
       "s⋅LaplaceTransform(y(t), t, s) - 4⋅LaplaceTransform(y(t), t, s) - 1 = ─\n",
       "                                                                      s"
      ]
     },
     "execution_count": 11,
     "metadata": {},
     "output_type": "execute_result"
    }
   ],
   "source": [
    "ec_alg = Eq(laplace_transform(ec_dif.lhs, t, s)[0].subs(cond_ini), laplace_transform(ec_dif.rhs, t, s)[0])\n",
    "ec_alg"
   ]
  },
  {
   "cell_type": "markdown",
   "id": "e0f4d358-8b19-48cd-9bf2-2c86d4251ad9",
   "metadata": {
    "tags": []
   },
   "source": [
    "Notemos que al transformar el primer miembro de la ecuación diferencial, incorporamos la condición inicial utilizando una substitución con `subs(cond_ini)`.\n",
    "\n",
    "El paso siguiente es resolver la ecuación algebraica en términos de $Y(s)$:"
   ]
  },
  {
   "cell_type": "code",
   "execution_count": 12,
   "id": "c6033522-a372-4b8a-9b09-bb1643587be1",
   "metadata": {
    "tags": []
   },
   "outputs": [
    {
     "data": {
      "image/png": "[encoded data removed]",
      "text/latex": [
       "$\\displaystyle \\left( \\frac{s + 1}{s \\left(s - 4\\right)}, \\  -\\infty, \\  \\text{True}\\right)$"
      ],
      "text/plain": [
       "⎛  s + 1            ⎞\n",
       "⎜─────────, -∞, True⎟\n",
       "⎝s⋅(s - 4)          ⎠"
      ]
     },
     "execution_count": 12,
     "metadata": {},
     "output_type": "execute_result"
    }
   ],
   "source": [
    "sol_Y = solve(ec_alg, Y)[0]\n",
    "sol_Y"
   ]
  },
  {
   "cell_type": "markdown",
   "id": "171edc89-5a59-44aa-8efd-ab3211f00b0f",
   "metadata": {},
   "source": [
    "Para finalizar el problema, debemos anti transformar $Y(s)$ para obtener $y(t)$:"
   ]
  },
  {
   "cell_type": "code",
   "execution_count": 13,
   "id": "6d3ee703-53e2-483f-85f0-a9e36e5ae973",
   "metadata": {
    "tags": []
   },
   "outputs": [
    {
     "data": {
      "image/png": "[encoded data removed]",
      "text/latex": [
       "$\\displaystyle \\frac{5 e^{4 t} \\theta\\left(t\\right)}{4} - \\frac{\\theta\\left(t\\right)}{4}$"
      ],
      "text/plain": [
       "   4⋅t            \n",
       "5⋅ℯ   ⋅θ(t)   θ(t)\n",
       "─────────── - ────\n",
       "     4         4  "
      ]
     },
     "execution_count": 13,
     "metadata": {},
     "output_type": "execute_result"
    }
   ],
   "source": [
    "y_sol = inverse_laplace_transform(sol_Y[0], s, t)\n",
    "y_sol"
   ]
  },
  {
   "cell_type": "code",
   "execution_count": 14,
   "id": "cf433aa5-0ac1-49e7-bb15-fea3e2efb781",
   "metadata": {
    "tags": []
   },
   "outputs": [
    {
     "data": {
      "image/png": "[encoded data removed]",
      "text/latex": [
       "$\\displaystyle \\left(\\frac{5 e^{4 t}}{4} - \\frac{1}{4}\\right) \\theta\\left(t\\right)$"
      ],
      "text/plain": [
       "⎛   4⋅t    ⎞     \n",
       "⎜5⋅ℯ      1⎟     \n",
       "⎜────── - ─⎟⋅θ(t)\n",
       "⎝  4      4⎠     "
      ]
     },
     "execution_count": 14,
     "metadata": {},
     "output_type": "execute_result"
    }
   ],
   "source": [
    "collect(y_sol, Heaviside(t))"
   ]
  },
  {
   "cell_type": "markdown",
   "id": "872d22ed-a314-4935-bd31-bc64b519df52",
   "metadata": {},
   "source": [
    "Como dijimos más arriba, $\\theta(t)$ representa la función Heaviside, por lo que para $t > 0$ la solución del problema está en la expresión entre paréntesis, que coincide con el resultado que obtuvimos antes."
   ]
  },
  {
   "cell_type": "markdown",
   "id": "e7be9f93-17ac-4819-be0f-26c662460483",
   "metadata": {},
   "source": [
    "## Ejercicio 5"
   ]
  },
  {
   "cell_type": "markdown",
   "id": "b1eac99c-b7cd-49ed-b164-7d517341abe6",
   "metadata": {},
   "source": [
    "El procedimiento para resolver este problema es análogo al anterior. Aplicamos la transformada de Laplace a la ecuación diferencial, denotando por $Y(s)$ a $\\mathscr{L}[y](s)$:\n",
    "\\begin{align}\n",
    "\\mathscr{L}[y' + 4 y](s) &= \\mathscr{L}[y'](s) + 4 \\mathscr{L}[y](s) \\\\\n",
    "&= [s Y(s) - y(0)] + 4 Y(s) = \\mathscr{L}[\\cos t](s) = \\frac{s}{s^2 + 1}\n",
    "\\end{align}\n",
    "Sabiendo que la condición inicial es $y(0) = 0$, despejando $Y(s)$ del problema algebraico obtenemos:\n",
    "\\begin{align}\n",
    "(s + 4) Y(s) &= \\frac{s}{s^2 + 1} \\\\\n",
    "Y(s) &= \\frac{1}{s + 4} \\frac{s}{s^2 + 1}\n",
    "\\end{align}\n",
    "La forma apropiada de $Y(s)$ para obtener la transformada inversa es descomponiendo el resultado anterior en fracciones simples. Esto lo puede hacer SymPy con la función `apart`:"
   ]
  },
  {
   "cell_type": "code",
   "execution_count": 15,
   "id": "28304736-d030-4e8f-b2f1-742c8f36c641",
   "metadata": {
    "tags": []
   },
   "outputs": [
    {
     "data": {
      "image/png": "[encoded data removed]",
      "text/latex": [
       "$\\displaystyle \\frac{4 s + 1}{17 \\left(s^{2} + 1\\right)} - \\frac{4}{17 \\left(s + 4\\right)}$"
      ],
      "text/plain": [
       "  4⋅s + 1         4     \n",
       "─────────── - ──────────\n",
       "   ⎛ 2    ⎞   17⋅(s + 4)\n",
       "17⋅⎝s  + 1⎠             "
      ]
     },
     "execution_count": 15,
     "metadata": {},
     "output_type": "execute_result"
    }
   ],
   "source": [
    "Y_fs = sym.apart(1/(s + 4) * s / (s**2 + 1))\n",
    "Y_fs"
   ]
  },
  {
   "cell_type": "markdown",
   "id": "e4a4283d-bf06-4920-8ab2-1c144fdd45d1",
   "metadata": {
    "tags": []
   },
   "source": [
    "La transformación inversa de Laplace también es una operación lineal, por lo que al aplicarla a la expresión anterior, término a término, obtenemos:"
   ]
  },
  {
   "cell_type": "code",
   "execution_count": 16,
   "id": "7611e99f-2514-432e-a459-1041cfc1531e",
   "metadata": {
    "tags": []
   },
   "outputs": [
    {
     "data": {
      "image/png": "[encoded data removed]",
      "text/latex": [
       "$\\displaystyle - \\frac{4 e^{- 4 t} \\theta\\left(t\\right)}{17}$"
      ],
      "text/plain": [
       "    -4⋅t      \n",
       "-4⋅ℯ    ⋅θ(t) \n",
       "──────────────\n",
       "      17      "
      ]
     },
     "execution_count": 16,
     "metadata": {},
     "output_type": "execute_result"
    }
   ],
   "source": [
    "inverse_laplace_transform(Y_fs.args[0], s, t)"
   ]
  },
  {
   "cell_type": "code",
   "execution_count": 17,
   "id": "94b60e26-54aa-4f9d-aebd-2556eaf94f63",
   "metadata": {
    "tags": []
   },
   "outputs": [
    {
     "data": {
      "image/png": "[encoded data removed]",
      "text/latex": [
       "$\\displaystyle \\frac{\\left(\\sin{\\left(t \\right)} + 4 \\cos{\\left(t \\right)}\\right) \\theta\\left(t\\right)}{17}$"
      ],
      "text/plain": [
       "(sin(t) + 4⋅cos(t))⋅θ(t)\n",
       "────────────────────────\n",
       "           17           "
      ]
     },
     "execution_count": 17,
     "metadata": {},
     "output_type": "execute_result"
    }
   ],
   "source": [
    "inverse_laplace_transform(Y_fs.args[1], s, t)"
   ]
  },
  {
   "cell_type": "markdown",
   "id": "1b7ec156-b796-4103-b7d9-f439e2d97b53",
   "metadata": {},
   "source": [
    "La solución entonces del problema de valores iniciales es:\n",
    "$$ y(t) = -\\frac{4}{17} e^{-4t} + \\frac{4}{17} \\cos t + \\frac{1}{17} \\sin t, \\quad t > 0 $$"
   ]
  },
  {
   "cell_type": "markdown",
   "id": "00b1f5be-0151-430c-9391-2a0f07c453e4",
   "metadata": {},
   "source": [
    "Ahora resolvemos el problema enteramente con SymPy. Inicialmente definimos las funciones, la ecuación diferencial y la condición inicial $y(0)= 0$:"
   ]
  },
  {
   "cell_type": "code",
   "execution_count": 18,
   "id": "4eec8c01-29ba-47e9-89ae-0c55d3991b1b",
   "metadata": {
    "tags": []
   },
   "outputs": [],
   "source": [
    "s, t = symbols('s t')\n",
    "y = Function('y')\n",
    "Y = laplace_transform(y(t), t, s)"
   ]
  },
  {
   "cell_type": "code",
   "execution_count": 19,
   "id": "060c86e3-6dff-4b0a-b323-dc66d9e3d519",
   "metadata": {
    "tags": []
   },
   "outputs": [
    {
     "data": {
      "image/png": "[encoded data removed]",
      "text/latex": [
       "$\\displaystyle 4 y{\\left(t \\right)} + \\frac{d}{d t} y{\\left(t \\right)} = \\cos{\\left(t \\right)}$"
      ],
      "text/plain": [
       "         d                \n",
       "4⋅y(t) + ──(y(t)) = cos(t)\n",
       "         dt               "
      ]
     },
     "execution_count": 19,
     "metadata": {},
     "output_type": "execute_result"
    }
   ],
   "source": [
    "ec_dif = Eq(y(t).diff(t) + 4 * y(t),  cos(t))\n",
    "ec_dif"
   ]
  },
  {
   "cell_type": "code",
   "execution_count": 20,
   "id": "4cc76f11-6bc2-463f-818b-9c4e66f432a5",
   "metadata": {
    "tags": []
   },
   "outputs": [],
   "source": [
    "cond_ini = {y(0): 0}"
   ]
  },
  {
   "cell_type": "markdown",
   "id": "2174e7bf-63a4-48a9-b3df-8a03041e3617",
   "metadata": {},
   "source": [
    "Tomamos la transformada de Laplace de la ecuación diferencial:"
   ]
  },
  {
   "cell_type": "code",
   "execution_count": 21,
   "id": "7d21fd03-f136-48b3-ba7a-7f5e512092bc",
   "metadata": {
    "tags": []
   },
   "outputs": [
    {
     "data": {
      "image/png": "[encoded data removed]",
      "text/latex": [
       "$\\displaystyle s \\mathcal{L}_{t}\\left[y{\\left(t \\right)}\\right]\\left(s\\right) + 4 \\mathcal{L}_{t}\\left[y{\\left(t \\right)}\\right]\\left(s\\right) = \\frac{s}{s^{2} + 1}$"
      ],
      "text/plain": [
       "                                                                    s   \n",
       "s⋅LaplaceTransform(y(t), t, s) + 4⋅LaplaceTransform(y(t), t, s) = ──────\n",
       "                                                                   2    \n",
       "                                                                  s  + 1"
      ]
     },
     "execution_count": 21,
     "metadata": {},
     "output_type": "execute_result"
    }
   ],
   "source": [
    "ec_alg = Eq(laplace_transform(ec_dif.lhs, t, s)[0].subs(cond_ini), laplace_transform(ec_dif.rhs, t, s)[0])\n",
    "ec_alg"
   ]
  },
  {
   "cell_type": "markdown",
   "id": "0346d93f-b200-4c83-ba01-c7a21675784d",
   "metadata": {},
   "source": [
    "Resolvemos el problema algebraico despejando $Y(s)$:"
   ]
  },
  {
   "cell_type": "code",
   "execution_count": 22,
   "id": "437c4e3b-fb5f-4705-b777-afee0ea12d12",
   "metadata": {
    "tags": []
   },
   "outputs": [
    {
     "data": {
      "image/png": "[encoded data removed]",
      "text/latex": [
       "$\\displaystyle \\left( \\frac{s}{s^{3} + 4 s^{2} + s + 4}, \\  -\\infty, \\  \\text{True}\\right)$"
      ],
      "text/plain": [
       "⎛        s                  ⎞\n",
       "⎜─────────────────, -∞, True⎟\n",
       "⎜ 3      2                  ⎟\n",
       "⎝s  + 4⋅s  + s + 4          ⎠"
      ]
     },
     "execution_count": 22,
     "metadata": {},
     "output_type": "execute_result"
    }
   ],
   "source": [
    "sol_Y = solve(ec_alg, Y)[0]\n",
    "sol_Y"
   ]
  },
  {
   "cell_type": "markdown",
   "id": "3c4ea78c-2720-4f77-bc72-ff828061d981",
   "metadata": {},
   "source": [
    "Tomamos la transformada inversa de $Y(s)$ para obtener $y(t)$:"
   ]
  },
  {
   "cell_type": "code",
   "execution_count": 23,
   "id": "80315555-061f-46c5-9036-af765f78550b",
   "metadata": {
    "tags": []
   },
   "outputs": [
    {
     "data": {
      "image/png": "[encoded data removed]",
      "text/latex": [
       "$\\displaystyle \\left(\\frac{\\sin{\\left(t \\right)}}{17} + \\frac{4 \\cos{\\left(t \\right)}}{17} - \\frac{4 e^{- 4 t}}{17}\\right) \\theta\\left(t\\right)$"
      ],
      "text/plain": [
       "⎛                       -4⋅t⎞     \n",
       "⎜sin(t)   4⋅cos(t)   4⋅ℯ    ⎟     \n",
       "⎜────── + ──────── - ───────⎟⋅θ(t)\n",
       "⎝  17        17        17   ⎠     "
      ]
     },
     "execution_count": 23,
     "metadata": {},
     "output_type": "execute_result"
    }
   ],
   "source": [
    "y_sol = inverse_laplace_transform(sol_Y[0], s, t)\n",
    "collect(y_sol, Heaviside(t))"
   ]
  },
  {
   "cell_type": "markdown",
   "id": "76f87adf-2567-47ec-b308-81e937225c1c",
   "metadata": {},
   "source": [
    "El resultado coinicide con el que obtuvimos previamente. Vamos a representar gráficamente la solución obtenida de $y(t)$ de nuestra ecuación diferencial como respuesta a la **entrada** $\\cos(t)$. Para ello primeramente tenemos que pasar nuestra función simbólica `y_sol` a una función numérica de numpy `y_np`, lo que nos permitirá representarla gráficamente:"
   ]
  },
  {
   "cell_type": "code",
   "execution_count": 24,
   "id": "c8cc38a2-f32e-4cd3-b0b5-db18afa38423",
   "metadata": {
    "tags": []
   },
   "outputs": [],
   "source": [
    "y_np = lambdify(t, y_sol, 'numpy')"
   ]
  },
  {
   "cell_type": "code",
   "execution_count": 25,
   "id": "05f67e0a-f74c-4083-b679-010893d2cef0",
   "metadata": {
    "tags": []
   },
   "outputs": [
    {
     "data": {
      "image/png": "[encoded data removed]",
      "text/plain": [
       "<Figure size 640x480 with 1 Axes>"
      ]
     },
     "metadata": {},
     "output_type": "display_data"
    }
   ],
   "source": [
    "fig, ax = plt.subplots() \n",
    "t_n = np.linspace(0, 20, 300)\n",
    "y_num = y_np(t_n)\n",
    "plt.plot(t_n, np.cos(t_n), label=r\"$\\cos(t)$\")\n",
    "plt.plot(t_n, y_num, lw=2, label=r\"$y(t)$\")\n",
    "plt.xlabel(r'$t$')\n",
    "plt.ylabel(r'$y(t), \\, \\cos(t)$')\n",
    "plt.legend()\n",
    "plt.show()"
   ]
  },
  {
   "cell_type": "markdown",
   "id": "f04142f5-2d7a-4313-89de-686dd2489109",
   "metadata": {},
   "source": [
    "## Ejercicio 6"
   ]
  },
  {
   "cell_type": "markdown",
   "id": "e02dfa6a-66be-485f-a86b-c464a3d0fc2a",
   "metadata": {},
   "source": [
    "Este ejercicio es un poco más complejo que los anteriores debido a que en la ecuación diferencial aparece una derivada segunda de la función incógnita, pero la secuencia de pasos para resolverlo es la misma que para los ejercicios 5 y 6. Vamos a resolverlo utilizando solo los métodos de SymPy.\n",
    "\n",
    "Primero definimos los símbolos a utilizar, la ecuación diferencial y las condiciones iniciales:"
   ]
  },
  {
   "cell_type": "code",
   "execution_count": 26,
   "id": "3704e7d2-02b7-40f8-a837-a88f62c826ca",
   "metadata": {
    "tags": []
   },
   "outputs": [],
   "source": [
    "s, t = symbols('s t')\n",
    "y = Function('y')\n",
    "Y = laplace_transform(y(t), t, s)"
   ]
  },
  {
   "cell_type": "code",
   "execution_count": 27,
   "id": "7b5d04a0-9eab-4a08-9658-a6fef4aaeb6b",
   "metadata": {
    "tags": []
   },
   "outputs": [
    {
     "data": {
      "image/png": "[encoded data removed]",
      "text/latex": [
       "$\\displaystyle 16 y{\\left(t \\right)} + \\frac{d^{2}}{d t^{2}} y{\\left(t \\right)} = t + 1$"
      ],
      "text/plain": [
       "           2               \n",
       "          d                \n",
       "16⋅y(t) + ───(y(t)) = t + 1\n",
       "            2              \n",
       "          dt               "
      ]
     },
     "execution_count": 27,
     "metadata": {},
     "output_type": "execute_result"
    }
   ],
   "source": [
    "ec_dif = Eq(y(t).diff(t, 2) + 16 * y(t),  1 + t)\n",
    "ec_dif"
   ]
  },
  {
   "cell_type": "code",
   "execution_count": 28,
   "id": "ee4dd970-f4e4-49da-8768-10d926bff7d6",
   "metadata": {
    "tags": []
   },
   "outputs": [],
   "source": [
    "cond_ini = {y(0): -1, Subs(diff(y(t), t), t, 0): 1}"
   ]
  },
  {
   "cell_type": "markdown",
   "id": "b4b58543-74af-41ae-9944-93dcbf044ba0",
   "metadata": {},
   "source": [
    "En las condiciones iniciales se suma, a diferencia de los ejercicios anteriores, el valor $y'(0) = 1$. Para ello tenemos que usar la función `Subs()`, que representa sustituciones no evaluadas en una expresión (ver la documentación de esta función [aquí](https://docs.sympy.org/latest/modules/core.html#sympy.core.function.Subs)).\n",
    "\n",
    "Ahora aplicamos la transformada de Laplace a la ecuación diferencial. Notar que al tener una derivada segunda de la función incógnita $y(t)$, aparece un término en $s^2$ en la ecuación algebraica para $Y(s)$:"
   ]
  },
  {
   "cell_type": "code",
   "execution_count": 29,
   "id": "9bbf77af-c826-4935-b01c-e3988cd8f999",
   "metadata": {
    "tags": []
   },
   "outputs": [
    {
     "data": {
      "image/png": "[encoded data removed]",
      "text/latex": [
       "$\\displaystyle s^{2} \\mathcal{L}_{t}\\left[y{\\left(t \\right)}\\right]\\left(s\\right) + s + 16 \\mathcal{L}_{t}\\left[y{\\left(t \\right)}\\right]\\left(s\\right) - 1 = \\frac{1}{s} + \\frac{1}{s^{2}}$"
      ],
      "text/plain": [
       " 2                                                                          1  ↪\n",
       "s ⋅LaplaceTransform(y(t), t, s) + s + 16⋅LaplaceTransform(y(t), t, s) - 1 = ─  ↪\n",
       "                                                                            s  ↪\n",
       "                                                                               ↪\n",
       "\n",
       "↪   1 \n",
       "↪ + ──\n",
       "↪    2\n",
       "↪   s "
      ]
     },
     "execution_count": 29,
     "metadata": {},
     "output_type": "execute_result"
    }
   ],
   "source": [
    "ec_alg = Eq(laplace_transform(ec_dif.lhs, t, s)[0].subs(cond_ini), laplace_transform(ec_dif.rhs, t, s)[0])\n",
    "ec_alg"
   ]
  },
  {
   "cell_type": "markdown",
   "id": "cd6f7424-6406-45c5-a5af-0c9f9cadb982",
   "metadata": {},
   "source": [
    "Resolvemos a continuación la ecuación algebraica, resolviendo para $Y(s)$:"
   ]
  },
  {
   "cell_type": "code",
   "execution_count": 30,
   "id": "b11cc77e-0cc4-462b-b148-6358d1def8fc",
   "metadata": {
    "tags": []
   },
   "outputs": [
    {
     "data": {
      "image/png": "[encoded data removed]",
      "text/latex": [
       "$\\displaystyle \\left( \\frac{- s^{3} + s^{2} + s + 1}{s^{2} \\left(s^{2} + 16\\right)}, \\  -\\infty, \\  \\text{True}\\right)$"
      ],
      "text/plain": [
       "⎛   3    2                  ⎞\n",
       "⎜- s  + s  + s + 1          ⎟\n",
       "⎜─────────────────, -∞, True⎟\n",
       "⎜   2 ⎛ 2     ⎞             ⎟\n",
       "⎝  s ⋅⎝s  + 16⎠             ⎠"
      ]
     },
     "execution_count": 30,
     "metadata": {},
     "output_type": "execute_result"
    }
   ],
   "source": [
    "sol_Y = solve(ec_alg, Y)[0]\n",
    "sol_Y"
   ]
  },
  {
   "cell_type": "markdown",
   "id": "428c24a7-851a-4442-bad3-84441af44343",
   "metadata": {},
   "source": [
    "Finalmente, realizamos la transformación inversa para obtener $y(t)$:"
   ]
  },
  {
   "cell_type": "code",
   "execution_count": 31,
   "id": "66d1ac12-f1df-456f-b5e0-269caaaf307d",
   "metadata": {
    "tags": []
   },
   "outputs": [
    {
     "data": {
      "image/png": "[encoded data removed]",
      "text/latex": [
       "$\\displaystyle \\left(\\frac{t}{16} + \\frac{15 \\sin{\\left(4 t \\right)}}{64} - \\frac{17 \\cos{\\left(4 t \\right)}}{16} + \\frac{1}{16}\\right) \\theta\\left(t\\right)$"
      ],
      "text/plain": [
       "⎛t    15⋅sin(4⋅t)   17⋅cos(4⋅t)   1 ⎞     \n",
       "⎜── + ─────────── - ─────────── + ──⎟⋅θ(t)\n",
       "⎝16       64            16        16⎠     "
      ]
     },
     "execution_count": 31,
     "metadata": {},
     "output_type": "execute_result"
    }
   ],
   "source": [
    "y_sol = inverse_laplace_transform(sol_Y[0], s, t)\n",
    "collect(y_sol, Heaviside(t))"
   ]
  },
  {
   "cell_type": "markdown",
   "id": "8daf3711-15cf-4d8c-b8ca-c56069c37d40",
   "metadata": {},
   "source": [
    "Podemos interpretar la ecuación diferencial como la ecuación de movimiento de un oscilador armónico sometido a una fuerza que crece linealmente. Vamos a graficar la solución obtenida para ver que efectivamente representa una oscilación."
   ]
  },
  {
   "cell_type": "code",
   "execution_count": 32,
   "id": "bbe000db-44d2-44f4-8b0e-5a471aa6e27c",
   "metadata": {
    "tags": []
   },
   "outputs": [],
   "source": [
    "y_np = lambdify(t, y_sol, 'numpy')"
   ]
  },
  {
   "cell_type": "code",
   "execution_count": 33,
   "id": "b52cfd60-86ba-4f3d-a344-4bad2ee0e09f",
   "metadata": {
    "tags": []
   },
   "outputs": [
    {
     "data": {
      "image/png": "[encoded data removed]",
      "text/plain": [
       "<Figure size 640x480 with 1 Axes>"
      ]
     },
     "metadata": {},
     "output_type": "display_data"
    }
   ],
   "source": [
    "fig, ax = plt.subplots() \n",
    "t_n = np.linspace(0, 10, 300)\n",
    "y_num = y_np(t_n)\n",
    "#plt.plot(t_n, 1 + t_n, label=r\"$1 + t$\")\n",
    "plt.plot(t_n, y_num, lw=2, label=r\"$y(t)$\")\n",
    "plt.xlabel(r'$t$')\n",
    "plt.ylabel(r'$y(t)$')\n",
    "plt.legend()\n",
    "plt.show()"
   ]
  }
 ],
 "metadata": {
  "kernelspec": {
   "display_name": "Python 3 (ipykernel)",
   "language": "python",
   "name": "python3"
  },
  "language_info": {
   "codemirror_mode": {
    "name": "ipython",
    "version": 3
   },
   "file_extension": ".py",
   "mimetype": "text/x-python",
   "name": "python",
   "nbconvert_exporter": "python",
   "pygments_lexer": "ipython3",
   "version": "3.13.2"
  }
 },
 "nbformat": 4,
 "nbformat_minor": 5
}
