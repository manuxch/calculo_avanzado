{
 "cells": [
  {
   "cell_type": "markdown",
   "id": "44fb49f7-231b-4975-986e-587d62ef2599",
   "metadata": {},
   "source": [
    "# Práctica Nro. 6\n",
    "\n",
    "[![Open In Colab](https://colab.research.google.com/assets/colab-badge.svg)](https://colab.research.google.com/github/manuxch/calculo_avanzado/blob/main/errores/clase_06/code/practica_06.ipynb)"
   ]
  },
  {
   "cell_type": "markdown",
   "id": "327644d4-e02a-4170-8c89-e29e9ff8a711",
   "metadata": {},
   "source": [
    "En esta práctica utilizamos solamente las funciones `floor()` y `log10()` del módulo math de Python. La documentación de las funciones definidas en este módulo se pueden ver [aquí](https://docs.python.org/es/3/library/math.html)."
   ]
  },
  {
   "cell_type": "code",
   "execution_count": 1,
   "id": "b7818c53-8ebb-43fd-91a8-2225292fd746",
   "metadata": {},
   "outputs": [],
   "source": [
    "from math import floor, log10"
   ]
  },
  {
   "cell_type": "markdown",
   "id": "eb1e0d20-ba3e-4325-96b7-d71220e0ff97",
   "metadata": {},
   "source": [
    "## Ejercicio 1"
   ]
  },
  {
   "cell_type": "markdown",
   "id": "182c0996-b5a2-4962-85b0-c867c7bce52f",
   "metadata": {},
   "source": [
    "##### Al considerar que usamos solo cinco cifras significativas, debemos utilizar el redondeo en caso de que nuestro número original tenga más de cinco cifras. Este es el caso, por ejemplo, del número `0.000924138`. Veamos cómo hacer paso a paso el redondeo definido por\n",
    "$$ \\mathcal{R}(x) = [b^n \\times 0.m + 0.5] \\times 10^{e-b} $$\n",
    "donde para este ejercicio, $n = 5$ y $x = 0.924138 \\times 10^{-3}$, con lo que $e = -3$, y $[x]$ denota la parte entera de $x$. Entonces:\n",
    "\\begin{align}\n",
    "\\mathcal{R}(x) &= \\mathcal{R}(0.924138 \\times 10^{-3}) \\\\\n",
    "&= [0.924138 \\times 10^{5} + 0.5] \\times 10^{-8} \\\\\n",
    "&= [92413.8 + 0.5] \\times 10^{-8} \\\\\n",
    "&= [92414.3] \\times 10^{-8} \\\\\n",
    "&= 92414 \\times 10^{-8} \\\\\n",
    "&= 0.00092414\n",
    "\\end{align}\n",
    "\n",
    "Una vez redondeado el número a la cantidad de cifras significativas las expresamos en punto flotante, lo que equivale a expresarlo en notación científica:\n",
    "- `84.175` = $8.4175 \\times 10^1$\n",
    "- `-528.685` = $-5.2869 \\times 10^2$\n",
    "- `0.000924138` = $9.2414 \\times 10^{-4}$\n",
    "- `-362005` = $-3.6201 \\times 10^5$\n",
    "\n",
    "Python permite representar números en formato de punto flotante, mediante la especificación de la cantidad de cifras después del punto decimal a mostrar en notación científica. Como en esta notación se utiliza solo un dígito para la parte entera, si queremos mantener solo cinco cifras significativas debemos especificar entonces cuatro dígitos para la parte decimal. El siguiente código genera una lista con los números del ejercicio, y luego un bucle `for` itera sobre esta lista imprimiendo el número original y su representación en notación científica con cinco cifras significativas (uno para la parte entera y cuatro para la decimal):"
   ]
  },
  {
   "cell_type": "code",
   "execution_count": 2,
   "id": "76d16ec8-ffd8-4cfc-b083-4fe0878db854",
   "metadata": {},
   "outputs": [
    {
     "name": "stdout",
     "output_type": "stream",
     "text": [
      "84.175 -> 8.4175E+01\n",
      "-528.685 -> -5.2868E+02\n",
      "0.000924138 -> 9.2414E-04\n",
      "-362005 -> -3.6200E+05\n"
     ]
    }
   ],
   "source": [
    "numeros = [84.175, -528.685, 0.000924138, -362005]\n",
    "for numero in numeros:\n",
    "    print(f\"{numero} -> {numero:1.4E}\")"
   ]
  },
  {
   "cell_type": "markdown",
   "id": "b2274c9e-9f4b-4a73-ae76-91399d0727c9",
   "metadata": {},
   "source": [
    "Podemos ver que esta representación no coincide con el cálculo que realizamos previamente. Esto se debe a que el redondeo se realiza en forma diferente al que hemos propuesto, y a la representación aproximada de los números en la computadora. Para ver esto en detalle, generamos una función `R(x, n)` que redondea el número `n` que le pasamos como primer argumento a la cantidad de cifras significativas `n` que le pasamos como segundo argumento:"
   ]
  },
  {
   "cell_type": "code",
   "execution_count": 3,
   "id": "f5101a80-bfba-4939-9668-76e89430e487",
   "metadata": {},
   "outputs": [],
   "source": [
    "def R(x, n):\n",
    "    e = int(floor(log10(abs(x)))) + 1\n",
    "    m = x * 10**(-(e))\n",
    "    r1 = 10**n * m + 0.5\n",
    "    r = int(r1) * 10**(e - n)\n",
    "    print(f'{e=}, {m=}, {r1=}, [r1]={int(r1)}, {r=}')\n",
    "    return r"
   ]
  },
  {
   "cell_type": "markdown",
   "id": "b8a4ec72-b0e2-47e8-8519-0689b519d433",
   "metadata": {},
   "source": [
    "La instrucción `print()` nos muestra los valores intermedios y final del cálculo que realiza. Si ahora ejecutamos el bucle sobre la lista de números vemos:"
   ]
  },
  {
   "cell_type": "code",
   "execution_count": 4,
   "id": "a8a39d9c-dca5-4640-b30b-7020263c43bd",
   "metadata": {},
   "outputs": [
    {
     "name": "stdout",
     "output_type": "stream",
     "text": [
      "e=2, m=0.84175, r1=84175.5, [r1]=84175, r=84.175\n",
      "x = 84.175, R(x) = 84.175, Python: 8.4175E+01\n",
      "e=3, m=0.528685, r1=52868.99999999999, [r1]=52868, r=528.6800000000001\n",
      "x = -528.685, R(x) = -528.6800000000001, Python: -5.2868E+02\n",
      "e=-3, m=0.924138, r1=92414.3, [r1]=92414, r=0.00092414\n",
      "x = 0.000924138, R(x) = 0.00092414, Python: 9.2414E-04\n",
      "e=6, m=0.36200499999999997, r1=36201.0, [r1]=36201, r=362010\n",
      "x = -362005, R(x) = -362010, Python: -3.6200E+05\n"
     ]
    }
   ],
   "source": [
    "for x in numeros:\n",
    "    if x >= 0:\n",
    "        rx = R(x, 5)\n",
    "    else:\n",
    "        rx = -R(-x, 5)\n",
    "    print(f\"x = {x}, R(x) = {rx}, Python: {x:1.4E}\")"
   ]
  },
  {
   "cell_type": "markdown",
   "id": "a4b92563-605f-4487-aaf3-6ab976ca0336",
   "metadata": {},
   "source": [
    "Vemos para el segundo número que `r1=52868.99999999999`, que es la representación de máquina del número $52869$, por lo que al tomar la parte entera ($[x]$) nos queda `52868` en vez de `52869`. Si bien la diferencia es pequeña (del orden del 0.002%), realizando muchos cálculos los errores acumulados pueden ser importantes."
   ]
  },
  {
   "cell_type": "markdown",
   "id": "237022ca-54d5-4b8c-8926-ea52d23e8618",
   "metadata": {},
   "source": [
    "## Ejercicio 2"
   ]
  },
  {
   "cell_type": "markdown",
   "id": "ecc4fccd-c098-4121-b3d4-57bc7865b7c5",
   "metadata": {},
   "source": [
    "Resolveremos la ecuación $x^2 - 300 x + 1 = 0$ de dos maneras, manteniendo primero cuatro cifras significativas y luego dos.\n",
    "\n",
    "Utilizando la fórmula cuadrática:\n",
    "$$ x_{1,2} = \\frac{1}{2a} \\left( -b \\pm \\sqrt{b^2 - 4 a c} \\right) $$\n",
    "con $a = 1$, $b = -30$ y $c = 1$, tenemos para la raíz cuadrada:\n",
    "$$ \\sqrt{(-30)^2 - 4} = \\sqrt{900 - 4} = \\sqrt{896} = 29.922 = 29.93 $$ \n",
    "Entonces, calculando $x_1$ y $x_2$ con cuatro cifras significativas tenemos:\n",
    "$$ x_1 = \\frac{1}{2} (30 + 29.93) = \\frac{1}{2} 59.93 = 29.965 = 29.97 $$\n",
    "y \n",
    "$$ x_2 = \\frac{1}{2} (30 - 29.93) = \\frac{1}{2} 0.07 = 0.035 $$\n",
    "Es importante notar que al calcular $x_2$ a partir de números con cuatro cifras significativas, obtenemos un resultado que tiene solo dos cifras significativas. Hemos perdido precisión en el cálculo.\n",
    "\n",
    "Como método alternativo de solución para $x_2$, podemos usar:\n",
    "$$ x_{1,2} = \\frac{1}{2a} \\left( -b + \\sqrt{b^2 - 4 a c} \\right), \\quad x_2 = \\frac{c}{a x_1} $$\n",
    "La raíz $x_1$ (calculada con la fórmula que suma números de magnitud similar) es $29.97$ como antes, pero ahora para $x_2$ obtenemos:\n",
    "$$ x_2 = \\frac{c}{a x_1} = \\frac{1}{29.97} = 0.0333667 = 0.03337 $$\n",
    "que tiene **cuatro** cifras significativas.\n",
    "\n",
    "Si ahora repetimos el cálculo con 2 cifras significativas, el resultado de la raíz cuadrada es\n",
    "$$ \\sqrt{(-30)^2 - 4} = \\sqrt{900 - 4} = \\sqrt{900} = 30 $$\n",
    "con **dos** cifras significativas (el redondeo de 900 - 4 = 896, expresado con dos cifras significativas es 900). Entonces, para $x_1$ tenemos\n",
    "$$ x_1 = \\frac{1}{2} (30 + 30) = \\frac{1}{2} 60 = 30 $$\n",
    "y \n",
    "$$ x_2 = \\frac{1}{2} (30 - 30) = 0 $$\n",
    "Del mismo modo que para el caso anterior, podemos obtener una mejor estimación para $x_2$ si hacemos\n",
    "$$ x_2 = \\frac{c}{a x_1} = \\frac{1}{30} = 0.033333 = 0.033 $$\n",
    "con **dos** cifras significativas.\n",
    "\n",
    "El propósito de este ejercicio no es mostrar que realizar el cálculo con menos cifras significativas genera resultados más pobres (lo cual es esperable, aunque no siempre es el caso). El punto es mostrar, en términos de números simples, lo que sucede en principio independientemente de la cantidad de cifras significativas usadas en el cálculo. El uso de la fórmula cuadrática para obtener ambas raíces involucra la diferencia de números de similar magnitud, lo que hace perder precisión en el cálculo. Esto es fácilmente reconocible haciendo las cuentas *a mano*, pero no es tan simple de ver en un cálculo computacional donde solo se muestran los resultados finales. Esto explica la necesidad de realizar programas que tiendan a evitar la pérdida de precisión en cálculos aritméticos (lo que en este caso es posible al evaluar $x_2$ en forma alternativa)."
   ]
  },
  {
   "cell_type": "markdown",
   "id": "7a6dde53-4c58-4c1b-8a8f-3139b949a52c",
   "metadata": {},
   "source": [
    "## Ejercicio 3"
   ]
  },
  {
   "cell_type": "markdown",
   "id": "ed7ad584-875d-4d86-ac2d-48d30c670bd8",
   "metadata": {},
   "source": [
    "Si $x_2$ representa un número binario arbitrario\n",
    "$$ x_2 = \\pm (\\alpha_n \\, \\alpha_{n-1} \\, \\cdots \\, \\alpha_{1} \\,  \\alpha_0  \\, . \\, \\alpha_{-1} \\, \\alpha_{-2} \\, \\cdots) $$\n",
    "donde $\\alpha_i = 0$ o $\\alpha_1 = 1$, la forma general de convertir números binarios a decimales es:\n",
    "$$ x_{10} = \\pm (\\alpha_n \\cdot 2^n + \\alpha_{n-1} \\cdot 2^{n-1} + \\cdots + \\alpha_{1} \\cdot 2 + \\alpha_0 \\cdot 2^0 + \\alpha_{-1} \\cdot 2^{-1} + \\alpha_{-2} \\cdot 2^{-2}+ \\cdots) $$\n",
    "entonces, para el caso de $x_2=$ `110.0101`$_2$ tenemos:\n",
    "$$ x_{10} = 1 \\cdot 2^2 + 1 \\cdot 2 + 0 \\cdot 1 + 0 \\cdot 2^{-1} + 1 \\cdot 2^{-2} + 0 \\cdot 2^{-3} + 1 \\cdot 2^{-4} = \\frac{101}{16} = 6.3125 $$\n",
    "\n",
    "Realizar esta conversión en forma \"manual\" es muy tedioso, así que una buena opción es construir una función en Python que realice la tarea por nosotros.\n",
    "\n",
    "La función `bin2dec()` recibe como argumento una cadena de ceros y unos (y eventualmente un punto decimal) que representa al número binario que queremos convertir. Si esta cadena tiene un punto decimal, divide la cadena en la \"parte entera\" (a la izquierda del punto) y en la \"parte decimal\" (a la derecha), y luego va multiplicando cada `1` que encuentra por la correspondiente potencia de 2. En caso que no haya un punto decimal en la cadena, considera que la misma representa un número entero. La función devuelve entonces el valor decimal del número binario."
   ]
  },
  {
   "cell_type": "code",
   "execution_count": 5,
   "id": "29f62345-5aac-473b-8390-7c3c107fce1a",
   "metadata": {},
   "outputs": [],
   "source": [
    "def bin2dec(s):\n",
    "    if not '.' in s:\n",
    "        be, bd = s, ''\n",
    "    else:\n",
    "        be, bd = s.split('.')        \n",
    "    d = 0\n",
    "    for e in range(len(be)):\n",
    "        d += int(be[-(e + 1)]) * 2**(e)\n",
    "    for e in range(len(bd)):\n",
    "        d += int(bd[e]) * 2**(-(e + 1))\n",
    "    return(d)"
   ]
  },
  {
   "cell_type": "markdown",
   "id": "830cb68c-85d9-4d06-97de-c1abfe15446a",
   "metadata": {},
   "source": [
    "Usamos entonces esta función recorriendo una lista con los números binarios que propone el ejercicio:"
   ]
  },
  {
   "cell_type": "code",
   "execution_count": 6,
   "id": "a32e4378-0c9d-42fe-bf66-7eeb0bddfca3",
   "metadata": {},
   "outputs": [
    {
     "name": "stdout",
     "output_type": "stream",
     "text": [
      "1011001 -> 89\n",
      "110.0101 -> 6.3125\n",
      "0.01011 -> 0.34375\n"
     ]
    }
   ],
   "source": [
    "binarios = ['1011001', '110.0101', '0.01011']\n",
    "for bin in binarios:\n",
    "    print(f\"{bin} -> {bin2dec(bin)}\")"
   ]
  },
  {
   "cell_type": "markdown",
   "id": "db254686-17ed-4067-b83d-d102223beb04",
   "metadata": {},
   "source": [
    "## Ejercicio 4"
   ]
  },
  {
   "cell_type": "markdown",
   "id": "95e381aa-40e7-45c2-994b-44a6711f96d1",
   "metadata": {},
   "source": [
    "La conversión de un [número hexadecimal](https://es.wikipedia.org/wiki/Sistema_hexadecimal) a uno decimal tiene el mismo procedimiento que la conversión desde un número binario a uno decimal, con la diferencia que la base ahora es 16, y en vez de ceros y unos ahora tenemos los diez dígitos usuales mas letras que expanden la base numérica. Esta base es:\n",
    "\n",
    "$$ \\{ 1, 2, 3, 4, 5, 6, 7, 8, 9, a, b, c, d, e, f, g, h\\} $$\n",
    "\n",
    "donde las letras corresponden a los valores decimales $a =10_{10}$, $b =11_{10}$, $c =12_{10}$, $d = 13_{10}$, $e =14_{10}$, $f =15_{10}$. En este contexto, $11_{\\text{h}} = 16_{10}$.\n",
    "\n",
    "Entonces, el número `2c.0b7`$_{\\text{h}}$ en decimal es:\n",
    "\\begin{align}\n",
    "2c.0b7_{\\text{h}} &= 2 \\cdot 16^1 + 12 \\cdot 16^0 + 0 \\cdot 16^{-1} + 11 \\cdot 16^{-2} + 7 \\cdot 16^{-3} \\\\\n",
    "&= 32 + 12  + \\frac{1}{16} + \\frac{11}{256} + \\frac{7}{4096} \\\\\n",
    "&= \\frac{180407}{4096} = 44.044677734375_{10}\n",
    "\\end{align}\n",
    "Se puede notar que el sistema hexadecimal permite una representación más compacta de los números. En este ejemplo, con 5 *dígitos* hexadecimales podemos representar un número que en el sistema decimal requiere de 14."
   ]
  },
  {
   "cell_type": "markdown",
   "id": "4443dcd1-b88e-43fa-ac48-3bca72afbcda",
   "metadata": {},
   "source": [
    "## Ejercicio 5"
   ]
  },
  {
   "cell_type": "markdown",
   "id": "324c8e83-e2ed-4a83-b5e5-7f3b35a8beae",
   "metadata": {},
   "source": [
    "Para convertir un número binario en representación de [punto flotante con precisión simple](https://es.wikipedia.org/wiki/Formato_en_coma_flotante_de_simple_precisi%C3%B3n) es necesario seguir los siguientes pasos:\n",
    "\n",
    "1. Identificar los dígitos que representan el signo ($s$), el exponente ($E$) y la mantisa ($m$)\n",
    "2. Convertir el exponente y la mantisa a números decimales\n",
    "3. Determinar el exponente efectivo restando del obtenido previamente el *bias* 127 ($e = E - 127$)\n",
    "4. Obtener el número decimal como $(-1)^s \\, m \\cdot 10^e$\n",
    "\n",
    "Para el primer paso, sabemos que el bit de signo es el primero, los siguientes 8 bits corresponden al exponente y los restantes 23 bits representan la mantisa normalizada (esto es se asume que el primer bit antes del punto decimal es un 1 y no se almacena).\n",
    "\n",
    "Entonces, descomponemos el número `01001010010000100011011001000000` en:\n",
    "\n",
    "- `0` es el signo (al ser nulo representa un número **positivo**)\n",
    "- `10010100` es el exponente\n",
    "- `10000100011011001000000` es la mantisa (que lleva un `1` adelante que **no** se almacena).\n",
    "\n",
    "Ahora aprovechamos la función `bin2dec()` que definimos en el ejercicio 3 para convertir el exponente y la mantisa al sistema decimal (adicionando el `1` aantes del punto, omitido en el formato):"
   ]
  },
  {
   "cell_type": "code",
   "execution_count": 7,
   "id": "bb426211-7a8a-48f5-b91b-d5659b74ae3f",
   "metadata": {},
   "outputs": [
    {
     "data": {
      "text/plain": [
       "148"
      ]
     },
     "execution_count": 7,
     "metadata": {},
     "output_type": "execute_result"
    }
   ],
   "source": [
    "bin2dec('10010100')"
   ]
  },
  {
   "cell_type": "code",
   "execution_count": 8,
   "id": "623771a7-8d27-4354-8022-e4289640b1b9",
   "metadata": {},
   "outputs": [
    {
     "data": {
      "text/plain": [
       "1.5172805786132812"
      ]
     },
     "execution_count": 8,
     "metadata": {},
     "output_type": "execute_result"
    }
   ],
   "source": [
    "bin2dec('1.10000100011011001000000')"
   ]
  },
  {
   "cell_type": "markdown",
   "id": "c1947f6f-8e72-478c-86cd-051c834f4c2c",
   "metadata": {},
   "source": [
    "Recordando que el *bias* es 127, el número buscado es:\n",
    "$$ (-1)^0 \\, 1.5172805786132812 \\cdot 2^{148 - 127} = 1.5172805786132812 \\cdot 2^{21} = 3181968 $$"
   ]
  },
  {
   "cell_type": "markdown",
   "id": "77007550-8c4c-4215-8002-d28d5077060f",
   "metadata": {},
   "source": [
    "En vez de repetir el cálculo *manualmente* para cada número del ejercicio, podemos construir una función en Python que lo haga por nosotros. La función `iee2dec()` recibe una cadena de caracteres que representa un número binario con el formato IEE-754 de precisión simple, identifica los bits correspondientes al signo, el exponente y la mantisa normalizada, y por medio de la función `bin2dec()` convierte el exponente y la mantisa al sistema decimal, y devuelve el número ingresado en forma decimal, y una cadena en la que se encuentran separados por espacios los tres campos del número binario:"
   ]
  },
  {
   "cell_type": "code",
   "execution_count": 9,
   "id": "55133da9-e338-4f2e-96ec-ea46e251fb18",
   "metadata": {},
   "outputs": [
    {
     "data": {
      "text/plain": [
       "(3181968.0, '0 10010100 10000100011011001000000')"
      ]
     },
     "execution_count": 9,
     "metadata": {},
     "output_type": "execute_result"
    }
   ],
   "source": [
    "def iee2dec(s):\n",
    "    bs = int(s[0]) # bit de signo\n",
    "    be = s[1:9]    # bits de exponente binario\n",
    "    bmn = s[9:]    # bits de mantisa binaria normalizada\n",
    "    e = bin2dec(be) - 127  # exponente decimal - bias\n",
    "    m = '1.' + bmn  # 1 + mantisa normalizada\n",
    "    md = bin2dec(m) # mantisa a decimal\n",
    "    return (-1)**bs * md * 2**e, str(bs) + ' ' + be + ' ' + bmn\n",
    "\n",
    "iee2dec('01001010010000100011011001000000')"
   ]
  },
  {
   "cell_type": "code",
   "execution_count": 10,
   "id": "ef9b8a7a-b3e6-4007-bf75-10739ba94f17",
   "metadata": {},
   "outputs": [
    {
     "name": "stdout",
     "output_type": "stream",
     "text": [
      "0 10010100 10000100011011001000000 -> 3181968.0\n",
      "1 10001001 11100001110000000000000 -> -1927.0\n",
      "0 10000000 10010010000111111011010 -> 3.141592502593994\n"
     ]
    }
   ],
   "source": [
    "lista_bin = ['01001010010000100011011001000000', \n",
    "             '11000100111100001110000000000000',\n",
    "             '01000000010010010000111111011010']\n",
    "\n",
    "for b in lista_bin:\n",
    "    d, s = iee2dec(b)\n",
    "    print(f\"{s} -> {d}\")"
   ]
  },
  {
   "cell_type": "markdown",
   "id": "78b35083-a944-4fc5-956d-390cecb2a117",
   "metadata": {},
   "source": [
    "## Ejercicio 6"
   ]
  },
  {
   "cell_type": "markdown",
   "id": "d562ea69-a4cc-498c-989a-5b75b7814f31",
   "metadata": {},
   "source": [
    "En este ejercicio realizaremos operaciones aritméticas simples propagando el error según la regla para sumas/restas y productos/divisiones. En cada caso, si $a = \\tilde{a} \\pm \\Delta a$ y $b = \\tilde{b} \\pm \\Delta b$:\n",
    "\n",
    "\\begin{align}\n",
    "a + b &= ( \\tilde{a} + \\tilde{b}) \\pm (\\Delta a + \\Delta b) \\\\\n",
    "a \\cdot b &= (\\tilde{a} \\cdot \\tilde{b}) \\pm \\left( \\frac{\\Delta a}{\\tilde{a}} + \\frac{\\Delta{b}}{\\tilde{b}} \\right) (a \\cdot b)\n",
    "\\end{align}\n",
    "y del mismo modo para restas y divisiones. Para el último caso hemos aproximado el error relativo $\\epsilon_r = \\Delta a / a \\approx \\Delta a / \\tilde{a}$, y si $c = a \\cdot b$, el error absoluto de $c$ lo podemos obtener a partir de su error relativo:\n",
    "$$ \\epsilon_r = \\frac{\\Delta c}{c} \\approx \\frac{\\Delta a}{\\tilde{a}} + \\frac{\\Delta b}{\\tilde{b}} \\implies \\Delta c = \\epsilon_r * c $$\n",
    "\n",
    "Entonces:\n",
    "\n",
    "a) \n",
    "\\begin{align}\n",
    "(3.5 \\pm 0.1) + (8.0 \\pm 0.2) - (5.0 \\pm 0.4) &= (3.5 + 8.0 - 5.0) \\pm (0.1 +0.2 +0.4) \\\\\n",
    "&= 6.5 \\pm 0.7\n",
    "\\end{align}\n",
    "\n",
    "b)\n",
    "\\begin{align}\n",
    "(3.5 \\pm 0.1) \\cdot (8.0 \\pm 0.2) &= (3.5 \\cdot 8.0) \\pm \\left( \\frac{0.1}{3.5} + \\frac{0.2}{8.0} \\right) \\cdot (3.5 \\cdot 8.0) \\\\\n",
    "&= 28.0 \\pm 0.05357 \\cdot 28.0 \\\\\n",
    "&= 28.0 \\pm 1.5\n",
    "\\end{align}\n",
    "\n",
    "c)\n",
    "\\begin{align}\n",
    "(3.5 \\pm 0.1) \\times (8.0 \\pm 0.2) / (5.0 \\pm 0.4) &= \\frac{3.5 \\cdot 8.0}{5.0} \\pm \\left( \\frac{0.1}{3.5} + \\frac{0.2}{8.2} + \\frac{0.4}{5.0} \\right) \\cdot \\frac{3.5 \\cdot 8.0}{5.0} \\\\\n",
    "&= 5.6 \\pm 0.133571 \\cdot 5.6 \\\\\n",
    "&= 5.60 \\pm 0.75\n",
    "\\end{align}"
   ]
  },
  {
   "cell_type": "markdown",
   "id": "e82f7cc1-00b8-4a99-88a2-822545cb40b9",
   "metadata": {},
   "source": [
    "## Ejercicio 7"
   ]
  },
  {
   "cell_type": "markdown",
   "id": "6fd9117d-025c-47bb-8853-4084ba8c35c7",
   "metadata": {},
   "source": [
    "Considerando el caso general de propagación de errores mediante la expansión en serie de Taylor de primer orden, y dado que en este ejercicio la función a evaluar tiene solo una variable independiente que podemos expresar como $\\theta = \\tilde{\\theta} \\pm \\Delta \\theta$, tenemos:\n",
    "\n",
    "$$ f(\\theta) \\approx f(\\tilde{\\theta}) + \\left. \\frac{df}{d \\theta} \\right|_{\\theta = \\tilde{\\theta}} \\Delta \\theta $$\n",
    "\n",
    "Entonces:\n",
    "$$ f(\\tilde{\\theta}) = \\sin 125^{\\circ} = 0.819152044288992 $$\n",
    "$$ \\left. \\frac{d(\\sin \\theta)}{d \\theta} \\right|_{\\theta = \\tilde{\\theta}} = \\left. \\cos \\theta \\right|_{\\theta = \\tilde{\\theta}} = \\cos 125^{\\circ} = - 0.5735764363510458 $$\n",
    "$$ \\delta f \\leq \\left| \\frac{df}{d \\theta} \\right|_{\\theta = \\tilde{\\theta}} \\, \\Delta \\theta = 0.5735764363510458 \\cdot 0.034906585 = 0.02002 $$\n",
    "\n",
    "En esta última expresión debemos expresar $\\Delta \\theta$ en radianes, ya que el error no debe tener unidades debido a que $\\sin \\theta$ es un número real sin unidades. El resultado, expresando el error con solo una cifra significativa, es:\n",
    "\n",
    "$$ \\sin (125 \\pm 2)^{\\circ} = 0.82 \\pm 0.02 $$"
   ]
  }
 ],
 "metadata": {
  "kernelspec": {
   "display_name": "Python 3 (ipykernel)",
   "language": "python",
   "name": "python3"
  },
  "language_info": {
   "codemirror_mode": {
    "name": "ipython",
    "version": 3
   },
   "file_extension": ".py",
   "mimetype": "text/x-python",
   "name": "python",
   "nbconvert_exporter": "python",
   "pygments_lexer": "ipython3",
   "version": "3.8.16"
  }
 },
 "nbformat": 4,
 "nbformat_minor": 5
}
